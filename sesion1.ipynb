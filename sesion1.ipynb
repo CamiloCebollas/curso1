{
  "nbformat": 4,
  "nbformat_minor": 0,
  "metadata": {
    "colab": {
      "name": "sesion1.ipynb",
      "provenance": [],
      "collapsed_sections": []
    },
    "kernelspec": {
      "name": "python3",
      "display_name": "Python 3"
    }
  },
  "cells": [
    {
      "cell_type": "markdown",
      "metadata": {
        "id": "d6n5DiPwy4nv",
        "colab_type": "text"
      },
      "source": [
        "<p><img alt=\"Colaboratory logo\" height=\"140px\" src=\"https://upload.wikimedia.org/wikipedia/commons/archive/f/fb/20161010213812%21Escudo-UdeA.svg\" align=\"left\" hspace=\"10px\" vspace=\"0px\"></p>\n",
        "\n",
        "<h1> Diplomado de Análisis de datos y Machine Learning en Python</h1>\n",
        "\n",
        "\n",
        "El presente diplomado hace parte del centro de Big Data de la facultad de ciencias exactas y naturales (FCEN) de la Universidad de Antioquia.\n",
        "\n",
        "# Sesión 1"
      ]
    },
    {
      "cell_type": "markdown",
      "metadata": {
        "id": "WMSNwhPrNcsk",
        "colab_type": "text"
      },
      "source": [
        "<p><a name=\"contents\"></a></p>\n",
        "\n",
        "# Contenido \n",
        "\n",
        "- <a href=\"#intro\">1. Introducción Python</a><br>\n",
        "- <a href=\"#var\">2. Variables y tipos</a><br>\n",
        "- <a href=\"#ope\">3. Operadores</a><br>\n",
        "- <a href=\"#entrada\">4. Lectura de entrada por teclado y conversión de tipo de variable</a><br>\n",
        "- <a href=\"#flujo\">5. Control de flujo</a><br>\n",
        "- <a href=\"#datos\">6. Estructuras de datos</a><br>\n",
        "\n",
        "\n"
      ]
    },
    {
      "cell_type": "markdown",
      "metadata": {
        "id": "UC62hO1lzjkv",
        "colab_type": "text"
      },
      "source": [
        "<p><a name=\"intro\"></a></p>\n",
        "\n",
        "# 1. Introducción a Python\n",
        "\n",
        "Creado en los 80's por Guido Van Rossum, Python es un lenguaje de programación de alto nivel, interpretado, interactivo y orientado a objetos. Python está diseñado para ser altamente legible ya que tiene menos construcciones sintácticas que otros lenguajes.\n",
        "\n",
        "* **Interpretado**: Python es procesado al momento de la ejecución por el interpretador. No se necesita compilar el programa antes de ejecutarlo.\n",
        "\n",
        "* **Interactivo**: Podemos interactuar con el intérprete directamente para escribir los programas.\n",
        "\n",
        "* **Orientado a objetos**: Python es un lenguaje orientado a objetos, una técnica de programación que encapsula el código dentro de objetos.\n",
        "\n",
        "* **Lenguaje para principiantes**: Python es un gran lenguaje para programadores principiantes\n",
        "\n"
      ]
    },
    {
      "cell_type": "markdown",
      "metadata": {
        "id": "lFjeF73gz0w8",
        "colab_type": "text"
      },
      "source": [
        "## Ejecutando código de Python\n",
        "\n",
        "Decir que Python es un lenguaje interpretado significa que este se ejecuta línea por línea, lo que permite que la programación sea interactiva de una manera que no es posible con lenguajes compilados como Fortran, C++ o Java.\n",
        "\n",
        "Existen diferentes maneras de ejecutar código de Python. Nosotros usaremos un enfoque interactivo proporcionado por los **cuadernos de Jupyter**\n",
        "\n",
        "\n",
        "**¿Qué es un Cuaderno?** un formato de documento que permite combinar código ejecutable, texto, gráficos e incluso características interactivas en un solo documento."
      ]
    },
    {
      "cell_type": "markdown",
      "metadata": {
        "id": "C5G8Xi6j0kIr",
        "colab_type": "text"
      },
      "source": [
        "# Google Colaborative\n",
        "\n",
        "Google Colab es un servicio en la nube, que nos provee de un cuaderno (Notebook) de Jupyter al que podemos acceder con un navegador web sin importar si usamos Windows, Linux o Mac. Tiene como grandes ventajas\n",
        "\n",
        "* Posibilidad de activar una GPU\n",
        "* Podemos crear libros en Python 2 o 3\n",
        "* Tiene preinstaladas las librerías comunes \n",
        "* Al enlazar con nuestra cuenta de Google Drive, podemos leer desde ahí archivos csv de entrada o guardar imágenes de salida, etc.\n",
        "\n",
        "Enlazando con nuestra cuenta de Google Drive"
      ]
    },
    {
      "cell_type": "code",
      "metadata": {
        "id": "1CDlOE50yyXq",
        "colab_type": "code",
        "colab": {}
      },
      "source": [
        ""
      ],
      "execution_count": 0,
      "outputs": []
    },
    {
      "cell_type": "markdown",
      "metadata": {
        "id": "Ekk75enx079D",
        "colab_type": "text"
      },
      "source": [
        "# Introducción a la sintaxis de Python"
      ]
    },
    {
      "cell_type": "markdown",
      "metadata": {
        "id": "0JdFtt1-0-3-",
        "colab_type": "text"
      },
      "source": [
        "La sintaxis se refiere a la estructura del lenguaje (es decir, lo que constituye un programa formado correctamente). Por el momento, no nos centraremos en la semántica, el significado de las palabras y los símbolos dentro de la sintaxis, sino que volveremos a esto más adelante.\n",
        "\n",
        "Consideremos el siguiente ejemplo:"
      ]
    },
    {
      "cell_type": "code",
      "metadata": {
        "id": "SpLT9abv08dm",
        "colab_type": "code",
        "colab": {}
      },
      "source": [
        "# programa ejemplo de la sintaxis de Python\n",
        "\n",
        "# definiendo el punto medio\n",
        "midpoint = 5\n",
        "\n",
        "# creando dos listas vacías\n",
        "lower = []; upper = []\n",
        "\n",
        "# separar los numeros hacia arriba y abajo\n",
        "for i in range(10):\n",
        "  if (i < midpoint):\n",
        "    lower.append(i)\n",
        "  else:\n",
        "    upper.append(i)\n",
        "\n",
        "print(\"lower:\", lower)\n",
        "print(\"upper:\", upper)"
      ],
      "execution_count": 0,
      "outputs": []
    },
    {
      "cell_type": "markdown",
      "metadata": {
        "id": "rl0uGLxB1K-N",
        "colab_type": "text"
      },
      "source": [
        "### Los comentarios en Python se marcan con '#'\n",
        "\n",
        "El script comienza con "
      ]
    },
    {
      "cell_type": "code",
      "metadata": {
        "id": "DiTl3tK_1LaU",
        "colab_type": "code",
        "colab": {}
      },
      "source": [
        "# definiendo el punto medio"
      ],
      "execution_count": 0,
      "outputs": []
    },
    {
      "cell_type": "markdown",
      "metadata": {
        "id": "mn_lDgpS1QBb",
        "colab_type": "text"
      },
      "source": [
        "*Los* comentarios en Python se indican con un signo de número (#). El intérprete ignora cualquier instrucción en la línea que sigue al signo de número."
      ]
    },
    {
      "cell_type": "code",
      "metadata": {
        "id": "55FVpLie1NFb",
        "colab_type": "code",
        "colab": {}
      },
      "source": [
        "x = 4 # asignando 4 a la variable x\n",
        "x"
      ],
      "execution_count": 0,
      "outputs": []
    },
    {
      "cell_type": "markdown",
      "metadata": {
        "id": "G_24ZgS71hQr",
        "colab_type": "text"
      },
      "source": [
        "### El final de línea termina una sentencia\n",
        "\n",
        "La siguiente linea en el código es"
      ]
    },
    {
      "cell_type": "code",
      "metadata": {
        "id": "5eH6nnIT1h2y",
        "colab_type": "code",
        "colab": {}
      },
      "source": [
        "midpoint = 5"
      ],
      "execution_count": 0,
      "outputs": []
    },
    {
      "cell_type": "markdown",
      "metadata": {
        "id": "I-GTU2zw1ler",
        "colab_type": "text"
      },
      "source": [
        "Esta es una operación de asignación, donde creamos una variable llamada \"midpoint\" y le asignamos el valor 5. Observe que el final de esta sentencia simplemente está marcado por el final de la línea. Si queremos seguir en la seguiente línea tenemos dos opciones:"
      ]
    },
    {
      "cell_type": "code",
      "metadata": {
        "id": "-brt_oeZ1mAR",
        "colab_type": "code",
        "colab": {}
      },
      "source": [
        "x = 1 + 2 + 3 + \\\n",
        "5 + 6 + 7\n",
        "x"
      ],
      "execution_count": 0,
      "outputs": []
    },
    {
      "cell_type": "code",
      "metadata": {
        "id": "4EGdTIs31wjw",
        "colab_type": "code",
        "colab": {}
      },
      "source": [
        "x = (1 + 2 + 3 +\n",
        "     5 + 6 + 7)\n",
        "x"
      ],
      "execution_count": 0,
      "outputs": []
    },
    {
      "cell_type": "markdown",
      "metadata": {
        "id": "Jct9HRGE1veJ",
        "colab_type": "text"
      },
      "source": [
        "Opcionalmente, el punto y coma puede terminar una sentencia"
      ]
    },
    {
      "cell_type": "markdown",
      "metadata": {
        "id": "R-xOBkCI17SL",
        "colab_type": "text"
      },
      "source": [
        "### Indentación: ¡El espacio en blanco es importante!"
      ]
    },
    {
      "cell_type": "code",
      "metadata": {
        "id": "1qbbiGEo161b",
        "colab_type": "code",
        "colab": {}
      },
      "source": [
        "for i in range(10):\n",
        "  if (i < midpoint):\n",
        "    lower.append(i)\n",
        "  else:\n",
        "    upper.append(i)"
      ],
      "execution_count": 0,
      "outputs": []
    },
    {
      "cell_type": "markdown",
      "metadata": {
        "id": "6OxkIS7c2AEg",
        "colab_type": "text"
      },
      "source": [
        "En lenguajes de programación, un bloque de código es un conjunto de sentencias que deben tratarse como una unidad. En python, los bloques de código se denotan por la indentación"
      ]
    },
    {
      "cell_type": "code",
      "metadata": {
        "id": "qkvuqh6Y2HsF",
        "colab_type": "code",
        "colab": {}
      },
      "source": [
        "for i in range(100):\n",
        "  # la indentacion indica el bloque de código\n",
        "  total+=i"
      ],
      "execution_count": 0,
      "outputs": []
    },
    {
      "cell_type": "markdown",
      "metadata": {
        "id": "pJYyQOjx2KPc",
        "colab_type": "text"
      },
      "source": [
        "En Python, los bloques de código indentados siempre van precedidos de dos puntos (:) en la línea anterior. Note que el espacio en blanco dentro de las líneas no importa"
      ]
    },
    {
      "cell_type": "code",
      "metadata": {
        "id": "_k7ipBwp2Mts",
        "colab_type": "code",
        "colab": {}
      },
      "source": [
        "x=1+2+..\n",
        "\n",
        "x = 1 + 2 + ...\n",
        "\n",
        "x       =       1       +       2       +       ...       "
      ],
      "execution_count": 0,
      "outputs": []
    },
    {
      "cell_type": "markdown",
      "metadata": {
        "id": "jOHjXLYt3AiN",
        "colab_type": "text"
      },
      "source": [
        "### Los paréntesis son para agrupar o llamar\n",
        "\n",
        "Primero, se pueden usar de la manera típica para agrupar enunciados u operaciones matemáticas:"
      ]
    },
    {
      "cell_type": "code",
      "metadata": {
        "id": "1wxmlhDg3D54",
        "colab_type": "code",
        "colab": {}
      },
      "source": [
        "1 * (3 + 5) "
      ],
      "execution_count": 0,
      "outputs": []
    },
    {
      "cell_type": "markdown",
      "metadata": {
        "id": "7UTlv58p3HSK",
        "colab_type": "text"
      },
      "source": [
        "También se pueden usar para indicar que se está llamando a una función. En el siguiente fragmento, la función `print()` se utiliza para mostrar el contenido de una variable. La llamada a la función se indica mediante un par de paréntesis de apertura y cierre, con los argumentos de la función contenidos en ellos:"
      ]
    },
    {
      "cell_type": "code",
      "metadata": {
        "id": "h3b7aylm3Jd0",
        "colab_type": "code",
        "colab": {}
      },
      "source": [
        "x = 4\n",
        "\n",
        "print(\"Valor de x:\",x)"
      ],
      "execution_count": 0,
      "outputs": []
    },
    {
      "cell_type": "markdown",
      "metadata": {
        "id": "oPxi9fET3P93",
        "colab_type": "text"
      },
      "source": [
        "Algunas funciones pueden invocarse sin ningún argumento, en cuyo caso los paréntesis de apertura y cierre deben usarse para indicar la evaluación de la función."
      ]
    },
    {
      "cell_type": "markdown",
      "metadata": {
        "id": "-vEmAaqQ2d-7",
        "colab_type": "text"
      },
      "source": [
        "# Introducción a la semántica de Python\n",
        "\n",
        "Esta sección comenzará a cubrir la semántica básica de Python. A diferencia de la sintaxis cubierta en la sección anterior, la semántica de un lenguaje implica el significado de las declaraciones. Al igual que con nuestra discusión sobre la sintaxis, aquí veremos algunas de las construcciones semánticas esenciales en Python para dar un mejor marco de referencia para comprender el código en las siguientes secciones."
      ]
    },
    {
      "cell_type": "markdown",
      "metadata": {
        "id": "YEF9Grr92hx-",
        "colab_type": "text"
      },
      "source": [
        "## Las variables de Python son punteros\n",
        "\n",
        "Asignar variables en Python es tan fácil como poner un nombre de variable a la izquierda del signo igual (=):"
      ]
    },
    {
      "cell_type": "code",
      "metadata": {
        "id": "54WiCmdI2eYv",
        "colab_type": "code",
        "colab": {}
      },
      "source": [
        "# Asignar 4 a la variable x\n",
        "\n",
        "x = 4"
      ],
      "execution_count": 0,
      "outputs": []
    },
    {
      "cell_type": "markdown",
      "metadata": {
        "id": "soGljby02sVA",
        "colab_type": "text"
      },
      "source": [
        "En muchos lenguajes de programación, las variables se consideran como contenedores o depósitos en los que se colocan datos. En Python, por el contrario, las variables se consideran no como contenedores sino como punteros.\n",
        "\n",
        "Debido a que las variables de Python apuntan a varios objetos, no hay necesidad de \"declarar\" la variable, ¡o incluso requerir que la variable siempre apunte a información del mismo tipo! Este es el sentido en el que se dice que Python es de tipado dinámico: los nombres de las variables pueden apuntar a objetos de cualquier tipo. Entonces, en Python, puedes hacer cosas como esta:"
      ]
    },
    {
      "cell_type": "code",
      "metadata": {
        "id": "xH8e2DZi2w5H",
        "colab_type": "code",
        "colab": {}
      },
      "source": [
        "x = 1           # x es un entero\n",
        "\n",
        "x = \"hola\"      # ahora x es una cadena de caracteres\n",
        "\n",
        "x = [1, 2, 3]   # hora x es una lista"
      ],
      "execution_count": 0,
      "outputs": []
    },
    {
      "cell_type": "markdown",
      "metadata": {
        "id": "6fCWJNbo21Jf",
        "colab_type": "text"
      },
      "source": [
        "Hay una consecuencia de este enfoque de \"variable como puntero\" que se debe tener en cuenta. Si tenemos dos nombres de variables que apuntan al mismo objeto mutable, ¡cambiar uno también cambiará al otro!"
      ]
    },
    {
      "cell_type": "code",
      "metadata": {
        "id": "Mkj5pp4_2300",
        "colab_type": "code",
        "colab": {}
      },
      "source": [
        ""
      ],
      "execution_count": 0,
      "outputs": []
    },
    {
      "cell_type": "markdown",
      "metadata": {
        "id": "pudcnLS03cbV",
        "colab_type": "text"
      },
      "source": [
        "Hemos creado dos variables x e y, ambas apuntando al mismo objeto. Debido a esto, si modificamos la lista a través de uno de sus nombres, veremos que la lista también se modificará:"
      ]
    },
    {
      "cell_type": "code",
      "metadata": {
        "id": "ftArCY5H3enx",
        "colab_type": "code",
        "colab": {}
      },
      "source": [
        ""
      ],
      "execution_count": 0,
      "outputs": []
    },
    {
      "cell_type": "markdown",
      "metadata": {
        "id": "3B7CW8UY3iMN",
        "colab_type": "text"
      },
      "source": [
        "Tenga en cuenta también que si usamos = para asignar otro valor a x, esto no afectará el valor de y: la asignación es simplemente un cambio de a qué objeto apunta la variable:"
      ]
    },
    {
      "cell_type": "code",
      "metadata": {
        "id": "YPzTP3I83l_-",
        "colab_type": "code",
        "colab": {}
      },
      "source": [
        ""
      ],
      "execution_count": 0,
      "outputs": []
    },
    {
      "cell_type": "markdown",
      "metadata": {
        "id": "T42bnwxG3pg3",
        "colab_type": "text"
      },
      "source": [
        "<p><a name=\"car\"></a></p>\n",
        "\n",
        "# 2. Variables y tipos\n",
        "\n",
        "Los nombres de las variables en Python pueden contener caracteres alfanuméricos *a-z*, *A-Z*, *0-9* y algunos caracteres especiales como _. Los nombres de las variables deben comenzar con una letra. \n",
        "\n",
        "Por convención, los nombres de las variables comienzan con letras minúsculas.\n",
        "\n",
        "Adicionalmente, existe un número de palabras claves que no pueden ser usadas como nombres de variables. Estas palabras claves son:\n",
        "\n",
        "> `and, as, assert, break, class, continue, def, del, elif, else, except, exec, finally, for, from, global, if, import, in, is, lambda, not, or, pass, print, raise, return, try, while, with, yield`\n",
        "\n",
        "En Python, los tipos fundamentales son \n",
        "\n",
        "1.   Enteros (int).\n",
        "2.   Punto flotante (float).\n",
        "3.   Booleanos (boolean)\n",
        "4.   Cadena de caracteres (strings).\n",
        "\n",
        "Los números, las cadenas y otros tipos simples son inmutables: no puede cambiar su valor; solo puede cambiar a qué valores apuntan las variables. Entonces, por ejemplo, es perfectamente seguro realizar operaciones como las siguientes:"
      ]
    },
    {
      "cell_type": "code",
      "metadata": {
        "id": "nDmOjkLl3srl",
        "colab_type": "code",
        "colab": {}
      },
      "source": [
        "x = 10\n",
        "\n",
        "y = x\n",
        "\n",
        "x = 5 + 10\n",
        "\n",
        "print(\"x:\",x)\n",
        "print(\"y:\",y)"
      ],
      "execution_count": 0,
      "outputs": []
    },
    {
      "cell_type": "markdown",
      "metadata": {
        "id": "kLxozD3e4N9Z",
        "colab_type": "text"
      },
      "source": [
        "## Todo es un objeto\n",
        "\n",
        "Python es un lenguaje de programación orientado a objetos, y en Python todo es un objeto. Anteriormente vimos que las variables son simplemente punteros, y los nombres de las variables no tienen información de tipo adjunta. Pero Python sí tiene tipos, y podemos acceder a ellos mediante la función `type()`  "
      ]
    },
    {
      "cell_type": "code",
      "metadata": {
        "id": "-zBRBfIO4Pet",
        "colab_type": "code",
        "colab": {}
      },
      "source": [
        ""
      ],
      "execution_count": 0,
      "outputs": []
    },
    {
      "cell_type": "markdown",
      "metadata": {
        "id": "E5Uwjd1y4TpX",
        "colab_type": "text"
      },
      "source": [
        "Note que en Python a las variables booleanas `True` y `False` se les asignan los valores 1 y 0, respectivamente"
      ]
    },
    {
      "cell_type": "code",
      "metadata": {
        "id": "8a5WYBYM4URm",
        "colab_type": "code",
        "colab": {}
      },
      "source": [
        "print(True+1)\n",
        "print(False+1)"
      ],
      "execution_count": 0,
      "outputs": []
    },
    {
      "cell_type": "markdown",
      "metadata": {
        "id": "4xtQ_pPy4dnG",
        "colab_type": "text"
      },
      "source": [
        "Sin embargo, los tipos están vinculados no a los nombres de las variables sino a *los objetos mismos.*\n",
        "\n",
        "En lenguajes de programación orientados a objetos como Python, un objeto es una entidad que contiene datos junto con metadatos y / o funcionalidades asociadas. En Python, todo es un objeto, lo que significa que cada entidad tiene algunos metadatos (llamados atributos) y funcionalidad asociada (llamados métodos). Se accede a estos atributos y métodos a través de la sintaxis de punto (.)\n",
        "\n",
        "Por ejemplo, anteriormente vimos que las listas tienen un método `append`, que agrega un elemento a la lista, y se accede a través de la sintaxis de punto (.)"
      ]
    },
    {
      "cell_type": "code",
      "metadata": {
        "id": "MzAOueRB4Wux",
        "colab_type": "code",
        "colab": {}
      },
      "source": [
        ""
      ],
      "execution_count": 0,
      "outputs": []
    },
    {
      "cell_type": "markdown",
      "metadata": {
        "id": "le2jWiKd4kf9",
        "colab_type": "text"
      },
      "source": [
        "Si bien podría esperarse que los objetos compuestos como las listas tengan atributos y métodos, lo que a veces es inesperado es que en Python incluso los tipos simples tienen atributos y métodos adjuntos"
      ]
    },
    {
      "cell_type": "code",
      "metadata": {
        "id": "YezRY8TF4nZn",
        "colab_type": "code",
        "colab": {}
      },
      "source": [
        "x = 4 + 2j\n",
        "\n",
        "print(x.real, \"+\", x.imag, \"i\")"
      ],
      "execution_count": 0,
      "outputs": []
    },
    {
      "cell_type": "markdown",
      "metadata": {
        "id": "1yuwMtXV4n0U",
        "colab_type": "text"
      },
      "source": [
        "Los métodos son como atributos, excepto que son funciones que se pueden llamar utilizando un par de paréntesis de apertura y cierre"
      ]
    },
    {
      "cell_type": "code",
      "metadata": {
        "id": "7ocwad4V4xt2",
        "colab_type": "code",
        "colab": {}
      },
      "source": [
        "x = 4.5\n",
        "\n",
        "x.is_integer()"
      ],
      "execution_count": 0,
      "outputs": []
    },
    {
      "cell_type": "markdown",
      "metadata": {
        "id": "yCGIYg1145fS",
        "colab_type": "text"
      },
      "source": [
        "Cuando decimos que todo en Python es un objeto, realmente queremos decir que todo es un objeto, incluso los atributos y métodos de los objetos son en sí mismos objetos con su propia información de tipo"
      ]
    },
    {
      "cell_type": "markdown",
      "metadata": {
        "id": "XvBz8ocw4_Te",
        "colab_type": "text"
      },
      "source": [
        "<p><a name=\"ope\"></a></p>\n",
        "\n",
        "# 3. Operadores\n",
        "\n",
        "En la sección anterior, comenzamos a observar la semántica de las variables y objetos de Python; aquí profundizaremos en la semántica de los distintos operadores incluidos en el lenguaje"
      ]
    },
    {
      "cell_type": "markdown",
      "metadata": {
        "id": "m7-qgMem5C5N",
        "colab_type": "text"
      },
      "source": [
        "### Operaciones aritméticas\n",
        "\n",
        "Python implementa siete operadores aritméticos binarios básicos, dos de los cuales pueden funcionar como operadores unarios"
      ]
    },
    {
      "cell_type": "code",
      "metadata": {
        "id": "VNdCUxfA5CcR",
        "colab_type": "code",
        "colab": {}
      },
      "source": [
        "a + b   #suma\n",
        "a - b   #resta\n",
        "a * b   #multiplicacion\n",
        "a / b   #division\n",
        "a // b  #division entera\n",
        "a % b   #modulo\n",
        "a ** b  #exponenciacion"
      ],
      "execution_count": 0,
      "outputs": []
    },
    {
      "cell_type": "markdown",
      "metadata": {
        "id": "m42xMg2i5LYR",
        "colab_type": "text"
      },
      "source": [
        "Estos operadores se pueden usar y combinar de manera intuitiva, usando paréntesis estándar para agrupar operaciones"
      ]
    },
    {
      "cell_type": "markdown",
      "metadata": {
        "id": "Dv_W9vLv5O_P",
        "colab_type": "text"
      },
      "source": [
        "### Atajos de operaciones matemáticas y asignaciones\n",
        "\n",
        "La siguiente asignación y operación:"
      ]
    },
    {
      "cell_type": "code",
      "metadata": {
        "id": "fogkEp2i5OSD",
        "colab_type": "code",
        "colab": {}
      },
      "source": [
        "a = 2\n",
        "a = a + 3\n",
        "print(a)"
      ],
      "execution_count": 0,
      "outputs": []
    },
    {
      "cell_type": "markdown",
      "metadata": {
        "id": "7MzsjtUG5aVi",
        "colab_type": "text"
      },
      "source": [
        "puede ser abreviada como"
      ]
    },
    {
      "cell_type": "code",
      "metadata": {
        "id": "zLRlnrSr5cqw",
        "colab_type": "code",
        "colab": {}
      },
      "source": [
        "a = 2\n",
        "a += 3\n",
        "print(a)"
      ],
      "execution_count": 0,
      "outputs": []
    },
    {
      "cell_type": "markdown",
      "metadata": {
        "id": "DfNDpUII5gqr",
        "colab_type": "text"
      },
      "source": [
        "Este tipo de abreviaciones funcionan con las siguientes operaciones: \n",
        "\n",
        "`+= -= /=`"
      ]
    },
    {
      "cell_type": "markdown",
      "metadata": {
        "id": "QjdvzAzK5kLY",
        "colab_type": "text"
      },
      "source": [
        "### Operadores de comparación\n",
        "\n",
        "Otro tipo de operación que puede ser muy útil es la comparación de diferentes valores. Para esto, Python implementa operadores de comparación estándar, que devuelven valores booleanos `True` y `False`"
      ]
    },
    {
      "cell_type": "code",
      "metadata": {
        "id": "sV4oAUI_5k61",
        "colab_type": "code",
        "colab": {}
      },
      "source": [
        "a == b    #a igual a b\n",
        "a != b    #a no igual a b\n",
        "a < b     #a menor a b\n",
        "a > b     #a mayor a b\n",
        "a <= b    #a menor igual a b\n",
        "a >= b    #a mayor igual a b"
      ],
      "execution_count": 0,
      "outputs": []
    },
    {
      "cell_type": "markdown",
      "metadata": {
        "id": "xqKuf_Qj5pAT",
        "colab_type": "text"
      },
      "source": [
        "Estos operadores de comparación se pueden combinar con los operadores aritméticos para expresar un rango prácticamente ilimitado de pruebas para los números"
      ]
    },
    {
      "cell_type": "code",
      "metadata": {
        "id": "LuxJepmU5srS",
        "colab_type": "code",
        "colab": {}
      },
      "source": [
        "# 25 es impar?\n",
        "25 % 2 == 1"
      ],
      "execution_count": 0,
      "outputs": []
    },
    {
      "cell_type": "markdown",
      "metadata": {
        "id": "jebC69VC5rwc",
        "colab_type": "text"
      },
      "source": [
        "Podemos unir varias comparaciones para verificar relaciones más complicadas:"
      ]
    },
    {
      "cell_type": "code",
      "metadata": {
        "id": "DhfvRURc5wdR",
        "colab_type": "code",
        "colab": {}
      },
      "source": [
        "# verificar si a esta entre 15 y 30\n",
        "a = 20\n",
        "15 < a < 30"
      ],
      "execution_count": 0,
      "outputs": []
    },
    {
      "cell_type": "markdown",
      "metadata": {
        "id": "FCHIW5675yzA",
        "colab_type": "text"
      },
      "source": [
        "### Operaciones booleanas\n",
        "\n",
        "Al trabajar con valores booleanos, Python proporciona operadores para combinar los valores utilizando los conceptos estándar de \"and\", \"or\" y \"not\". Como es de esperarse, estos operadores se expresan usando las palabras `and`, `or`, y `not`. \n",
        "\n",
        "and: Este operador da como resultado True si y sólo si sus dos operandos son True:"
      ]
    },
    {
      "cell_type": "code",
      "metadata": {
        "id": "0JI90mly52LF",
        "colab_type": "code",
        "colab": {}
      },
      "source": [
        "x = 4\n",
        "x < 6 and x >2"
      ],
      "execution_count": 0,
      "outputs": []
    },
    {
      "cell_type": "markdown",
      "metadata": {
        "id": "2Azxzjom6H5n",
        "colab_type": "text"
      },
      "source": [
        "or: Este operador da como resultado True si algún operando es True:"
      ]
    },
    {
      "cell_type": "code",
      "metadata": {
        "id": "vh-A2V7X6IaR",
        "colab_type": "code",
        "colab": {}
      },
      "source": [
        "x > 10 or x % 2 == 0"
      ],
      "execution_count": 0,
      "outputs": []
    },
    {
      "cell_type": "markdown",
      "metadata": {
        "id": "dfwqUoiU6KhT",
        "colab_type": "text"
      },
      "source": [
        "not: Este operador da como resultado True si y sólo si su argumento es False:"
      ]
    },
    {
      "cell_type": "code",
      "metadata": {
        "id": "70IJThlr6Nuo",
        "colab_type": "code",
        "colab": {}
      },
      "source": [
        "not x < 6"
      ],
      "execution_count": 0,
      "outputs": []
    },
    {
      "cell_type": "markdown",
      "metadata": {
        "id": "7YJJJI-F6OIT",
        "colab_type": "text"
      },
      "source": [
        "##  Operadores de identidad y membresía\n",
        "\n",
        "Los operadores de identidad, `is` y `is not`, verifican la identidad del objeto. La identidad del objeto es diferente a la igualdad, como podemos ver aquí:"
      ]
    },
    {
      "cell_type": "code",
      "metadata": {
        "id": "JKuwgTv-6Rno",
        "colab_type": "code",
        "colab": {}
      },
      "source": [
        "a = [1, 2, 3]\n",
        "b = [1, 2 ,3]\n",
        "\n",
        "print(a==b)\n",
        "print(a is b)\n",
        "print(a is not b)"
      ],
      "execution_count": 0,
      "outputs": []
    },
    {
      "cell_type": "markdown",
      "metadata": {
        "id": "HPB4GN256SCy",
        "colab_type": "text"
      },
      "source": [
        "Los operadores de membresía, ``in`` y ``not in``, verifican la membresía dentro de los objetos compuestos. Entonces, por ejemplo, podemos escribir:"
      ]
    },
    {
      "cell_type": "code",
      "metadata": {
        "id": "SaOgE-DP67Kb",
        "colab_type": "code",
        "colab": {}
      },
      "source": [
        ""
      ],
      "execution_count": 0,
      "outputs": []
    },
    {
      "cell_type": "markdown",
      "metadata": {
        "id": "XTGp9kaA8Ztz",
        "colab_type": "text"
      },
      "source": [
        "<p><a name=\"entrada\"></a></p>\n",
        "\n",
        "# 4. Lectura de entrada por teclado y conversión de tipo de variable\n",
        "\n",
        "En Python 3 la lectura de datos por teclado se da mediante la función incorporada `input()`. Esta lee los datos del teclado como una cadena, independientemente de si está entre comillas o no"
      ]
    },
    {
      "cell_type": "code",
      "metadata": {
        "id": "GaZ80a9p8iVP",
        "colab_type": "code",
        "colab": {}
      },
      "source": [
        ""
      ],
      "execution_count": 0,
      "outputs": []
    },
    {
      "cell_type": "markdown",
      "metadata": {
        "id": "V6NSEw0L8inB",
        "colab_type": "text"
      },
      "source": [
        "En la mayoría de los casos necesitamos que la variable esté en el formato adecuado para realizar operaciones con ella, por lo que necesitamos hacer transformaciones de un tipo de variable a otro. Para ello, Python nos proporciona las funciones `int()`, `str()`, `float()`, y `list()`."
      ]
    },
    {
      "cell_type": "code",
      "metadata": {
        "id": "35N7Cs7t8tjq",
        "colab_type": "code",
        "colab": {}
      },
      "source": [
        ""
      ],
      "execution_count": 0,
      "outputs": []
    },
    {
      "cell_type": "markdown",
      "metadata": {
        "id": "iVQe1v8o8t9G",
        "colab_type": "text"
      },
      "source": [
        "¿Y si queremos imprimir en un formato particular? Podemos utilizar ``format()`` (python 2) o ``f-strings`` (python 3)\n"
      ]
    },
    {
      "cell_type": "code",
      "metadata": {
        "id": "TQ4FWmY38xfM",
        "colab_type": "code",
        "colab": {}
      },
      "source": [
        ""
      ],
      "execution_count": 0,
      "outputs": []
    },
    {
      "cell_type": "markdown",
      "metadata": {
        "id": "_udVb8UR_wrI",
        "colab_type": "text"
      },
      "source": [
        "## **Ejercicio #1:** Cree un programa que le pida al usuario que ingrese su nombre, edad y año actual. Imprima un mensaje en pantalla en el que le diga el año en que cumplirá 100 años."
      ]
    },
    {
      "cell_type": "markdown",
      "metadata": {
        "id": "rPOjP2509QOd",
        "colab_type": "text"
      },
      "source": [
        "<p><a name=\"flujo\"></a></p>\n",
        "\n",
        "# 5. Control de flujo\n",
        "\n",
        "Sin el flujo de control , un programa es simplemente una lista de sentencias que se ejecutan secuencialmente. Con el flujo de control, podemos ejecutar ciertos bloques de código condicionalmente y/o repetidamente. Veremos las diferentes sentencias condicionales, ciclos e interrupciones de flujo."
      ]
    },
    {
      "cell_type": "markdown",
      "metadata": {
        "id": "GA07gqEV9WZw",
        "colab_type": "text"
      },
      "source": [
        "## Sentencias Condicionales `if`, `elif` y `else`\n",
        "\n",
        "Una sentencia `if` consiste en una expresión booleana seguida de una o más sentencias. \n",
        "> if expresion:\n",
        "\n",
        "      sentencia(s)\n",
        "\n",
        "Si la expresión booleana se evalúa como `True`, se ejecuta el bloque de sentencias dentro de la sentencia `if`. Recordemos que en Python, las declaraciones en un bloque están indentadas uniformemente después del símbolo dos puntos (:) "
      ]
    },
    {
      "cell_type": "code",
      "metadata": {
        "id": "a49r0HaQ9izq",
        "colab_type": "code",
        "colab": {}
      },
      "source": [
        "expresion = True\n",
        "\n",
        "if expresion:\n",
        "  print(\"La expresión tiene un valor True\")\n",
        "print(\"¡adiós!\")"
      ],
      "execution_count": 0,
      "outputs": []
    },
    {
      "cell_type": "markdown",
      "metadata": {
        "id": "It_Iqqnx9cIc",
        "colab_type": "text"
      },
      "source": [
        "La sentencia `else` se puede combinar con una sentencia `if`. Una instrucción `else` contiene un bloque de código que se ejecuta si la expresión condicional en la instrucción `if` toma el valor `False`\n",
        "\n",
        "> \n",
        "    if expresion:\n",
        "\n",
        "      sentencia(s)\n",
        "\n",
        "    else:\n",
        "\n",
        "      sentencia(s)"
      ]
    },
    {
      "cell_type": "code",
      "metadata": {
        "id": "8YwUDZqO9TOA",
        "colab_type": "code",
        "colab": {}
      },
      "source": [
        "expresion = False\n",
        "\n",
        "if expresion:\n",
        "    print(\"expresion es Verdadero\")\n",
        "else:\n",
        "    print(\"expresion es Falso\")"
      ],
      "execution_count": 0,
      "outputs": []
    },
    {
      "cell_type": "markdown",
      "metadata": {
        "id": "ONEvQpXz96tf",
        "colab_type": "text"
      },
      "source": [
        "La sentencia `elif` (else if) permite verificar múltiples expresiones y ejecutar un bloque de código tan pronto como una de las condiciones se evalúe como `True`. Al igual que `else`, la sentencia `elif` es opcional. Sin embargo, a diferencia de `else`, para el cual puede haber como máximo una declaración, puede haber un número arbitrario de sentencias `elif` después de un `if`."
      ]
    },
    {
      "cell_type": "code",
      "metadata": {
        "id": "a_yoDRIf9_vg",
        "colab_type": "code",
        "colab": {}
      },
      "source": [
        "expresion1 = 1\n",
        "expresion2 = 1\n",
        "\n",
        "if expresion1:\n",
        "  print(\"expresion1 es Verdadero\")\n",
        "elif expresion2:\n",
        "  print(\"expresion2 es Verdadero\")\n",
        "else:\n",
        "  print(\"expresion es Falso\")"
      ],
      "execution_count": 0,
      "outputs": []
    },
    {
      "cell_type": "markdown",
      "metadata": {
        "id": "9Y9eKt5w__Nu",
        "colab_type": "text"
      },
      "source": [
        "## **Ejercicio #2:**  Pida al usuario un número. Dependiendo de si el número es par o impar, imprima un mensaje apropiado para el usuario en pantalla."
      ]
    },
    {
      "cell_type": "code",
      "metadata": {
        "id": "Nj2IIlkYAI1y",
        "colab_type": "code",
        "colab": {}
      },
      "source": [
        ""
      ],
      "execution_count": 0,
      "outputs": []
    },
    {
      "cell_type": "markdown",
      "metadata": {
        "id": "Jorm-BABAJKX",
        "colab_type": "text"
      },
      "source": [
        "## **Ejercicio #3:** Acepte tres números del usuario. Imprima en pantalla el mayor de los tres con dos cifras significativas"
      ]
    },
    {
      "cell_type": "code",
      "metadata": {
        "id": "tFT8zUI7AKez",
        "colab_type": "code",
        "colab": {}
      },
      "source": [
        ""
      ],
      "execution_count": 0,
      "outputs": []
    },
    {
      "cell_type": "markdown",
      "metadata": {
        "id": "fxTaipCe-sDh",
        "colab_type": "text"
      },
      "source": [
        "## Ciclos, iteraciones e interrupciones de flujo\n",
        "\n",
        "En general, las instrucciones se ejecutan secuencialmente. Puede haber una situación en la que se necesite ejecutar un bloque de código varias veces. Una sentencia de ciclo o bucle nos permite ejecutar una o un grupo de sentencias repetidas veces"
      ]
    },
    {
      "cell_type": "markdown",
      "metadata": {
        "id": "8N3lNEcd-vym",
        "colab_type": "text"
      },
      "source": [
        "### Ciclo `while`\n",
        "\n",
        "Una sentencia de ciclo `while` ejecuta repetidamente una sentencia siempre que una condición dada sea `True`\n",
        "\n",
        "> \n",
        "    while expresion:\n",
        "\n",
        "      sentencia(s)\n",
        "\n",
        "El ciclo itera mientras la condición sea `True`. Un punto clave del ciclo while es que el ciclo podría no ejecutarse nunca. Cuando se prueba la condición y el resultado es `False`, se omitirá el cuerpo del ciclo y se ejecutará la primera instrucción después del ciclo while"
      ]
    },
    {
      "cell_type": "code",
      "metadata": {
        "id": "MG2m7PYK-vXQ",
        "colab_type": "code",
        "colab": {}
      },
      "source": [
        "contador = 0\n",
        "while (contador < 9):\n",
        "   print('El contador es:', contador)\n",
        "   contador += 1\n",
        "\n",
        "print (\"!Adiós!\")"
      ],
      "execution_count": 0,
      "outputs": []
    },
    {
      "cell_type": "markdown",
      "metadata": {
        "id": "DAYPNLMu-4u7",
        "colab_type": "text"
      },
      "source": [
        "### Ciclo `for`\n",
        "\n",
        "La sentencia `for` en Python tiene la capacidad de iterar sobre los elementos de cualquier secuencia\n",
        "\n",
        "> \n",
        "    for var_iter in secuencia:\n",
        "\n",
        "        sentencia(s)\n",
        "\n",
        "Por ejemplo, si queremos imprimir en pantalla los elementos de una lista, podemos utilizar un ciclo `for` de la siguiente manera"
      ]
    },
    {
      "cell_type": "code",
      "metadata": {
        "id": "iiV9MFbj-6B6",
        "colab_type": "code",
        "colab": {}
      },
      "source": [
        "L = [1, 2, 3]\n",
        "\n",
        "for i in L:\n",
        "  print(i)\n",
        "  #print(i, end=\" \")  "
      ],
      "execution_count": 0,
      "outputs": []
    },
    {
      "cell_type": "markdown",
      "metadata": {
        "id": "Mtc5zMCn_Efb",
        "colab_type": "text"
      },
      "source": [
        "Observe la simplicidad del ciclo for: especificamos la variable que queremos usar (i), la secuencia que queremos recorrer (L) y usamos el operador `in` para vincularlos de manera intuitiva y legible. Más precisamente, el objeto a la derecha de `in` puede ser cualquier iterador de Python. Un iterador puede considerarse como una secuencia generalizada. Por ejemplo, uno de los iteradores más utilizados en Python es el objeto `range()`, que genera una secuencia de números"
      ]
    },
    {
      "cell_type": "code",
      "metadata": {
        "id": "tP8jzab0_IFX",
        "colab_type": "code",
        "colab": {}
      },
      "source": [
        ""
      ],
      "execution_count": 0,
      "outputs": []
    },
    {
      "cell_type": "markdown",
      "metadata": {
        "id": "WeB80DE4_Ggc",
        "colab_type": "text"
      },
      "source": [
        "Tenga en cuenta que `range` comienza en cero por defecto, y que por convención\n",
        "la parte superior del `range` no está incluida en la salida. La sintáxis general es de la siguiente forma\n",
        "\n",
        "> range(`inicio`,`final`,`paso`)"
      ]
    },
    {
      "cell_type": "code",
      "metadata": {
        "id": "LhSJYmr5_Ucz",
        "colab_type": "code",
        "colab": {}
      },
      "source": [
        ""
      ],
      "execution_count": 0,
      "outputs": []
    },
    {
      "cell_type": "markdown",
      "metadata": {
        "id": "7ILE0w-H_U7p",
        "colab_type": "text"
      },
      "source": [
        "### Sentencias de control \n",
        "\n",
        "Hay dos sentencias útiles que se pueden usar dentro de los ciclos para ajustar cómo se ejecutan:\n",
        "\n",
        "La sentencia de control `break` termina las sentencias del ciclo y transfiere la ejecución a la sentencia que sigue inmediatamente al ciclo."
      ]
    },
    {
      "cell_type": "code",
      "metadata": {
        "id": "WOmiS0iZ_aDD",
        "colab_type": "code",
        "colab": {}
      },
      "source": [
        "vocales = \"aeiou\"\n",
        "\n",
        "for i in vocales:\n",
        "  if i==\"o\":\n",
        "    break\n",
        "  print(i)"
      ],
      "execution_count": 0,
      "outputs": []
    },
    {
      "cell_type": "markdown",
      "metadata": {
        "id": "djgV5a4K_cQ2",
        "colab_type": "text"
      },
      "source": [
        "La sentencia de control `continue` omite el resto del ciclo actual y pasa a la siguiente iteración"
      ]
    },
    {
      "cell_type": "code",
      "metadata": {
        "id": "v-RTrbuT_cth",
        "colab_type": "code",
        "colab": {}
      },
      "source": [
        "for i in vocales:\n",
        "  if i==\"o\":\n",
        "    continue\n",
        "  print(i)"
      ],
      "execution_count": 0,
      "outputs": []
    },
    {
      "cell_type": "markdown",
      "metadata": {
        "id": "DaHEUdMEAc09",
        "colab_type": "text"
      },
      "source": [
        "<p><a name=\"datos\"></a></p>\n",
        "\n",
        "# 6. Estructuras de datos\n",
        "\n",
        "Hemos visto los tipos de variables simples de Python: `int`, `float` , `bool` y `str`. Python también tiene varios tipos compuestos, que actúan como contenedores para otros tipos. Estos tipos compuestos son: Listas, tuplas y diccionarios. "
      ]
    },
    {
      "cell_type": "markdown",
      "metadata": {
        "id": "RyDk6078Afvr",
        "colab_type": "text"
      },
      "source": [
        "## Listas\n",
        "\n",
        "Las listas son el tipo básico de colección de datos *ordenados* y *mutables* en Python. Se pueden definir con valores separados por comas entre corchetes"
      ]
    },
    {
      "cell_type": "code",
      "metadata": {
        "id": "ZFZ7B63rAiRY",
        "colab_type": "code",
        "colab": {}
      },
      "source": [
        "lista = [0, 1, 2, 3, 4, 5]"
      ],
      "execution_count": 0,
      "outputs": []
    },
    {
      "cell_type": "markdown",
      "metadata": {
        "id": "GHxa--A8AoNy",
        "colab_type": "text"
      },
      "source": [
        "### Atributos y métodos:\n",
        "Las listas tienen varios atributos y métodos útiles: "
      ]
    },
    {
      "cell_type": "code",
      "metadata": {
        "id": "2-yBkZUuAota",
        "colab_type": "code",
        "colab": {}
      },
      "source": [
        "#longitud o número de elementos de la lista\n",
        "\n",
        "len(lista)"
      ],
      "execution_count": 0,
      "outputs": []
    },
    {
      "cell_type": "code",
      "metadata": {
        "id": "YQd2Zlo8BCvk",
        "colab_type": "code",
        "colab": {}
      },
      "source": [
        "#concatenación\n",
        "\n",
        "lista + [5, 9, 35]"
      ],
      "execution_count": 0,
      "outputs": []
    },
    {
      "cell_type": "code",
      "metadata": {
        "id": "BsKomC8iBFJq",
        "colab_type": "code",
        "colab": {}
      },
      "source": [
        "#añadir otro elemento al final de la lista\n",
        "\n",
        "lista.append(10)\n",
        "lista"
      ],
      "execution_count": 0,
      "outputs": []
    },
    {
      "cell_type": "code",
      "metadata": {
        "id": "zbBIUZFeBGaa",
        "colab_type": "code",
        "colab": {}
      },
      "source": [
        "#eliminar elemento\n",
        "\n",
        "lista.remove(10)   #eliminar el primer elemento \"10\" de la lista\n",
        "\n",
        "#del lista[0]       #eleminar por referencia al índice\n",
        "\n",
        "lista"
      ],
      "execution_count": 0,
      "outputs": []
    },
    {
      "cell_type": "code",
      "metadata": {
        "id": "iZzx8oRjBJeS",
        "colab_type": "code",
        "colab": {}
      },
      "source": [
        "#ordenar la lista\n",
        "\n",
        "lista.sort()               #en orden creciente\n",
        "#lista1.sort(reverse=True)   #en orden decreciente\n",
        "lista"
      ],
      "execution_count": 0,
      "outputs": []
    },
    {
      "cell_type": "code",
      "metadata": {
        "id": "3ibub0qXBK0m",
        "colab_type": "code",
        "colab": {}
      },
      "source": [
        "#obtener el máximo y el mínimo de la lista\n",
        "\n",
        "print(lista)\n",
        "\n",
        "print(\"Máximo: \", max(lista))\n",
        "\n",
        "print(\"Mínimo: \", min(lista))"
      ],
      "execution_count": 0,
      "outputs": []
    },
    {
      "cell_type": "markdown",
      "metadata": {
        "id": "nfd2t7CGBNfb",
        "colab_type": "text"
      },
      "source": [
        "Adicionalmente, hay muchos más métodos de lista incorporados; están bien cubiertos en la [documentación](https://docs.python.org/3/tutorial/datastructures.html) en línea de Python.\n",
        "\n",
        "Una de las características de los objetos compuestos de Python es que pueden contener objetos de cualquier tipo, o incluso una combinación de tipos. Por ejemplo:"
      ]
    },
    {
      "cell_type": "code",
      "metadata": {
        "id": "J504ZEqeBOGp",
        "colab_type": "code",
        "colab": {}
      },
      "source": [
        "L = [1, 2.5, \"hola\", [1,2,3]]"
      ],
      "execution_count": 0,
      "outputs": []
    },
    {
      "cell_type": "markdown",
      "metadata": {
        "id": "FexaYoEdBVMR",
        "colab_type": "text"
      },
      "source": [
        "Este tipo de flexibilidad es una pieza esencial de lo que hace que el código Python sea relativamente rápido y fácil de escribir."
      ]
    },
    {
      "cell_type": "markdown",
      "metadata": {
        "id": "Mzo5LNO6BYNR",
        "colab_type": "text"
      },
      "source": [
        "## Indexación. \n",
        "\n",
        "Podemos indexar los caracteres en un string y los elementos en una lista mediante el uso de [ ]"
      ]
    },
    {
      "cell_type": "code",
      "metadata": {
        "id": "Xn1JpqB5Bqpx",
        "colab_type": "code",
        "colab": {}
      },
      "source": [
        "# obtener el primer elemento\n",
        "\n",
        "\n",
        "# obtener el último elemento"
      ],
      "execution_count": 0,
      "outputs": []
    },
    {
      "cell_type": "markdown",
      "metadata": {
        "id": "2Bs397jJB1vk",
        "colab_type": "text"
      },
      "source": [
        "La sintáxis para la segmentación es de la forma\n",
        "\n",
        "> `lista[inicio:final:paso]` \n",
        "\n",
        "en donde se extraen los elementos de la lista entre la posiciones `inicio` y `final`, con cierto `paso`:"
      ]
    },
    {
      "cell_type": "markdown",
      "metadata": {
        "id": "pUU2fewQCZVe",
        "colab_type": "text"
      },
      "source": [
        "¡El índice inicial es inclusivo mientras que el índice final no lo es! \n",
        "\n",
        "![picture](https://cdn.programiz.com/sites/tutorial2program/files/element-slicling.jpg)"
      ]
    },
    {
      "cell_type": "code",
      "metadata": {
        "id": "kDI-nDFzCc6c",
        "colab_type": "code",
        "colab": {}
      },
      "source": [
        "lista = [\"P\", \"R\", \"O\", \"G\", \"R\", \"A\", \"M\", \"I\", \"Z\"]"
      ],
      "execution_count": 0,
      "outputs": []
    },
    {
      "cell_type": "code",
      "metadata": {
        "id": "RAmoTaOrC67C",
        "colab_type": "code",
        "colab": {}
      },
      "source": [
        "#seleccionar los tres primeros elementos de la lista \n",
        "print(lista[:3])"
      ],
      "execution_count": 0,
      "outputs": []
    },
    {
      "cell_type": "code",
      "metadata": {
        "id": "9Lbc355rC8LF",
        "colab_type": "code",
        "colab": {}
      },
      "source": [
        "#seleccionar los últimos tres elementos de la lista \n",
        "print(lista[-3:])"
      ],
      "execution_count": 0,
      "outputs": []
    },
    {
      "cell_type": "code",
      "metadata": {
        "id": "VBVxJSmoC9nv",
        "colab_type": "code",
        "colab": {}
      },
      "source": [
        "#seleccionar desde el tercer elemento hasta el final \n",
        "print(lista[2:])"
      ],
      "execution_count": 0,
      "outputs": []
    },
    {
      "cell_type": "code",
      "metadata": {
        "id": "3K3Cn3pWDAuG",
        "colab_type": "code",
        "colab": {}
      },
      "source": [
        "#seleccionar los elementos de la lista con paso 2\n",
        "print(lista[::2])"
      ],
      "execution_count": 0,
      "outputs": []
    },
    {
      "cell_type": "code",
      "metadata": {
        "id": "4sc-wRLDDCNv",
        "colab_type": "code",
        "colab": {}
      },
      "source": [
        "#seleccionar desde el elemento 5 hasta el 2 en sentido contrario\n",
        "print(lista[4:1:-1])"
      ],
      "execution_count": 0,
      "outputs": []
    },
    {
      "cell_type": "markdown",
      "metadata": {
        "id": "hqGNXhn0DFfP",
        "colab_type": "text"
      },
      "source": [
        "Tanto la indexación como la segmentación se pueden utilizar para establecer el valor de los elementos en la lista:"
      ]
    },
    {
      "cell_type": "code",
      "metadata": {
        "id": "cw7dC4FPDIjz",
        "colab_type": "code",
        "colab": {}
      },
      "source": [
        "#establecer el valor del primer elemento de la lista\n",
        "lista[0] = 100\n",
        "lista"
      ],
      "execution_count": 0,
      "outputs": []
    },
    {
      "cell_type": "code",
      "metadata": {
        "id": "BnDCVyWPDLoF",
        "colab_type": "code",
        "colab": {}
      },
      "source": [
        "#establecer los valores de los elementos 2,3 y 4 \n",
        "lista[1:4] = [30, 31, 32]\n",
        "lista"
      ],
      "execution_count": 0,
      "outputs": []
    },
    {
      "cell_type": "markdown",
      "metadata": {
        "id": "YlYdlyUnDLNG",
        "colab_type": "text"
      },
      "source": [
        "## **Ejercicio #4:** Solicite al usuario una cadena de caracteres e imprima si esta cadena es un palíndromo o no. (Un palíndromo es una palabra que se lee lo mismo hacia adelante y hacia atrás)."
      ]
    },
    {
      "cell_type": "code",
      "metadata": {
        "id": "j6QbWjqrDqx7",
        "colab_type": "code",
        "colab": {}
      },
      "source": [
        ""
      ],
      "execution_count": 0,
      "outputs": []
    },
    {
      "cell_type": "markdown",
      "metadata": {
        "id": "69Y0xp9kD2Cc",
        "colab_type": "text"
      },
      "source": [
        "## **Ejercicio5**:  Dado el siguiente listado de alumnos de una clase\n",
        "\n",
        "> alumnos = ['Ana', 'Luis', 'Pedro', 'Marta', 'Nerea', 'Pablo']\n",
        "\n",
        "## Crear dos listas: una que contenga la primera letra de cada nombre y otra que contenga la última letra"
      ]
    },
    {
      "cell_type": "code",
      "metadata": {
        "id": "tBncK1_FD2tN",
        "colab_type": "code",
        "colab": {}
      },
      "source": [
        ""
      ],
      "execution_count": 0,
      "outputs": []
    },
    {
      "cell_type": "markdown",
      "metadata": {
        "id": "7tYtJCwCIReo",
        "colab_type": "text"
      },
      "source": [
        "## **Ejercicio #6:** Dada una cadena y un entero $n$ por un usuario, imprima en pantalla una nueva cadena que no contenga los caracteres de la cadena original desde el primer caracter hasta el caracter $n$ (Verifique que la longitud de la cadena no sea mayor a $n$, y en caso contrario vuelva a pedir el entero $n$)"
      ]
    },
    {
      "cell_type": "code",
      "metadata": {
        "id": "lJ7IYAaHIXsF",
        "colab_type": "code",
        "colab": {}
      },
      "source": [
        ""
      ],
      "execution_count": 0,
      "outputs": []
    },
    {
      "cell_type": "markdown",
      "metadata": {
        "id": "Y0TNMgukE_Ro",
        "colab_type": "text"
      },
      "source": [
        "## Diccionarios\n",
        "\n",
        "Los diccionarios son mapeos de claves a valores. Se pueden crear mediante una lista separada por comas de pares `(clave : valor)` dentro de llaves:"
      ]
    },
    {
      "cell_type": "code",
      "metadata": {
        "id": "UczBDUBGFENb",
        "colab_type": "code",
        "colab": {}
      },
      "source": [
        "num = {\"uno\":1, \"dos\":2, \"tres\":3}\n",
        "print(num, type(num))"
      ],
      "execution_count": 0,
      "outputs": []
    },
    {
      "cell_type": "markdown",
      "metadata": {
        "id": "PJYvoGOlFJfR",
        "colab_type": "text"
      },
      "source": [
        "Se accede a los elementos y se establecen sus valores mediante la sintaxis de indexación utilizada para listas y tuplas, excepto que aquí el índice está basado en una clave válida en el diccionario:"
      ]
    },
    {
      "cell_type": "code",
      "metadata": {
        "id": "_B9nq6ZuFLcs",
        "colab_type": "code",
        "colab": {}
      },
      "source": [
        "#acceder a un valor a través de la clave\n",
        "num[\"dos\"]"
      ],
      "execution_count": 0,
      "outputs": []
    },
    {
      "cell_type": "markdown",
      "metadata": {
        "id": "I0HsAwtpFNQT",
        "colab_type": "text"
      },
      "source": [
        "También se pueden agregar nuevos elementos al diccionario mediante la indexación"
      ]
    },
    {
      "cell_type": "code",
      "metadata": {
        "id": "o32UDHuzFOx2",
        "colab_type": "code",
        "colab": {}
      },
      "source": [
        "#establecer un nuevo par clave/valor\n",
        "num[\"cuatro\"] = 4\n",
        "num"
      ],
      "execution_count": 0,
      "outputs": []
    },
    {
      "cell_type": "markdown",
      "metadata": {
        "id": "BZlUVvMmFUa2",
        "colab_type": "text"
      },
      "source": [
        "Las claves son únicas dentro de un diccionario, mientras que los valores pueden no serlo. Los valores de un diccionario pueden ser de cualquier tipo, pero las claves deben ser de un tipo de dato inmutable, como cadenas, números o tuplas."
      ]
    },
    {
      "cell_type": "code",
      "metadata": {
        "id": "_mA3nr5sFYBg",
        "colab_type": "code",
        "colab": {}
      },
      "source": [
        "dic = {\"nombres\": [\"daniel\", \"carlos\", \"camila\", \"maria\"], \"edades\":[23, 26, 17, 23]}"
      ],
      "execution_count": 0,
      "outputs": []
    },
    {
      "cell_type": "markdown",
      "metadata": {
        "id": "Zs8S5sVQFbCY",
        "colab_type": "text"
      },
      "source": [
        "Algunos métodos útiles de la clase `dict` son:"
      ]
    },
    {
      "cell_type": "code",
      "metadata": {
        "id": "EKb_MeN-FcxQ",
        "colab_type": "code",
        "colab": {}
      },
      "source": [
        "#claves del diccionario\n",
        "dic.keys()"
      ],
      "execution_count": 0,
      "outputs": []
    },
    {
      "cell_type": "code",
      "metadata": {
        "id": "NJR_7woVFeBx",
        "colab_type": "code",
        "colab": {}
      },
      "source": [
        "#valores del diccionario\n",
        "dic.values()"
      ],
      "execution_count": 0,
      "outputs": []
    },
    {
      "cell_type": "code",
      "metadata": {
        "id": "k3plonb0FfVk",
        "colab_type": "code",
        "colab": {}
      },
      "source": [
        "#items del diccionario\n",
        "dic.items()"
      ],
      "execution_count": 0,
      "outputs": []
    },
    {
      "cell_type": "markdown",
      "metadata": {
        "id": "jpha-UeqF6GN",
        "colab_type": "text"
      },
      "source": [
        "### Iterando sobre los diccionarios\n",
        "\n",
        "Podemos utilizar estos métodos para realizar iteraciones sobre las claves, las valores, o ambos items del diccionario:"
      ]
    },
    {
      "cell_type": "code",
      "metadata": {
        "id": "qPkV9h9MGAsW",
        "colab_type": "code",
        "colab": {}
      },
      "source": [
        "dic.keys()"
      ],
      "execution_count": 0,
      "outputs": []
    },
    {
      "cell_type": "code",
      "metadata": {
        "id": "K4ErKKqbGCDG",
        "colab_type": "code",
        "colab": {}
      },
      "source": [
        "#iterando sobre las claves\n",
        "for i in dic.keys():\n",
        "  print(i)"
      ],
      "execution_count": 0,
      "outputs": []
    },
    {
      "cell_type": "code",
      "metadata": {
        "id": "g_RcrQU_GDQF",
        "colab_type": "code",
        "colab": {}
      },
      "source": [
        "dic.values()"
      ],
      "execution_count": 0,
      "outputs": []
    },
    {
      "cell_type": "code",
      "metadata": {
        "id": "JheQxVvRGEx6",
        "colab_type": "code",
        "colab": {}
      },
      "source": [
        "#iterando sobre los valores\n",
        "for i in dic.values():\n",
        "  print(i)"
      ],
      "execution_count": 0,
      "outputs": []
    },
    {
      "cell_type": "code",
      "metadata": {
        "id": "BbGDJNKMGGsZ",
        "colab_type": "code",
        "colab": {}
      },
      "source": [
        "#iterando sobre la tupla (clave, valor)\n",
        "for i,j in dic.items():\n",
        "  print(i,j)"
      ],
      "execution_count": 0,
      "outputs": []
    },
    {
      "cell_type": "markdown",
      "metadata": {
        "id": "wGBhsb5aFseS",
        "colab_type": "text"
      },
      "source": [
        "## **Ejercicio7:** Dada una lista, itere sobre ella y cuente la aparición de cada elemento y cree un diccionario para mostrar el recuento de cada elemento\n",
        "\n",
        "> Lista = [11, 45, 8, 11, 23, 45, 23, 45, 89]"
      ]
    },
    {
      "cell_type": "code",
      "metadata": {
        "id": "c1IEPS76gWAm",
        "colab_type": "code",
        "colab": {}
      },
      "source": [
        ""
      ],
      "execution_count": 0,
      "outputs": []
    },
    {
      "cell_type": "markdown",
      "metadata": {
        "id": "JPti3636GKDk",
        "colab_type": "text"
      },
      "source": [
        "## **Ejercicio8:** Dado el diccionario\n",
        "\n",
        "> notas = {'Ana':9, 'Luis':7, 'Pedro':2, 'Marta':5, 'Nerea':4, 'Pablo':6}\n",
        "\n",
        "##  1) Crear una lista que contenga los nombres de los estudiantes que contengan la letra \"a\"\n",
        "\n",
        "##  2) Crear una lista que contenga notas mayores o iguales a 5\n",
        "\n",
        "##  3) Crear una lista que contenga los nombres de los estudiantes que aprobaron "
      ]
    },
    {
      "cell_type": "code",
      "metadata": {
        "id": "X0Kz5CvCGUrv",
        "colab_type": "code",
        "colab": {}
      },
      "source": [
        ""
      ],
      "execution_count": 0,
      "outputs": []
    }
  ]
}