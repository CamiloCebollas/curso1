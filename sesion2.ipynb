{
  "nbformat": 4,
  "nbformat_minor": 0,
  "metadata": {
    "kernelspec": {
      "display_name": "Python 3",
      "language": "python",
      "name": "python3"
    },
    "language_info": {
      "codemirror_mode": {
        "name": "ipython",
        "version": 3
      },
      "file_extension": ".py",
      "mimetype": "text/x-python",
      "name": "python",
      "nbconvert_exporter": "python",
      "pygments_lexer": "ipython3",
      "version": "3.7.3"
    },
    "colab": {
      "name": "sesion2.ipynb",
      "provenance": [],
      "collapsed_sections": []
    }
  },
  "cells": [
    {
      "cell_type": "markdown",
      "metadata": {
        "id": "d3MeAqhjOlQQ",
        "colab_type": "text"
      },
      "source": [
        "<p><img alt=\"Colaboratory logo\" height=\"140px\" src=\"https://upload.wikimedia.org/wikipedia/commons/archive/f/fb/20161010213812%21Escudo-UdeA.svg\" align=\"left\" hspace=\"10px\" vspace=\"0px\"></p>\n",
        "\n",
        "<h1> Diplomado de Análisis de datos y Machine Learning en Python</h1>\n",
        "\n",
        "\n",
        "El presente diplomado hace parte del centro de Big Data de la facultad de ciencias exactas y naturales (FCEN) de la Universidad de Antioquia.\n",
        "\n",
        "# Sesión 2"
      ]
    },
    {
      "cell_type": "markdown",
      "metadata": {
        "id": "ikhrD2JduiEg",
        "colab_type": "text"
      },
      "source": [
        "<p><a name=\"contents\"></a></p>\n",
        "\n",
        "# Contenido \n",
        "\n",
        "- <a href=\"#fun\">1. Funciones y clases</a><br>\n",
        "- <a href=\"#mod\">2. Módulos</a><br>\n",
        "- <a href=\"#num\">3. Numpy</a><br>\n"
      ]
    },
    {
      "cell_type": "markdown",
      "metadata": {
        "id": "QRs2QK4HM8vJ",
        "colab_type": "text"
      },
      "source": [
        "# 1. Funciones y Clases.\n",
        "\n",
        "## 1.1 Funciones.\n",
        "\n",
        "Hasta ahora, nuestros scripts han sido bloques de código simples y de un solo uso. Una forma de organizar nuestro código de Python y hacerlo más legible y reutilizable es descomponer piezas útiles en funciones reutilizables. Las funciones son bloques de código que tienen un nombre y pueden ser llamadas usando paréntesis. Hemos visto funciones antes. Por ejemplo, `print()` es una función:"
      ]
    },
    {
      "cell_type": "code",
      "metadata": {
        "id": "5JvDd9wVM8vK",
        "colab_type": "code",
        "outputId": "62042ede-880c-4ac0-b6bb-14bb5cfa61f7",
        "colab": {
          "base_uri": "https://localhost:8080/",
          "height": 34
        }
      },
      "source": [
        "print(\"abc\")"
      ],
      "execution_count": 0,
      "outputs": [
        {
          "output_type": "stream",
          "text": [
            "abc\n"
          ],
          "name": "stdout"
        }
      ]
    },
    {
      "cell_type": "markdown",
      "metadata": {
        "id": "UB7x6eohM8vN",
        "colab_type": "text"
      },
      "source": [
        "aquí `print` es el nombre de la función, y `\"abc\"` es el *argumento* de la función. Adicionalmente, existen los *argumentos por palabra clave* (keyword arguments o kwargs) que se especifican por el nombre. Por ejemplo, un kwarg disponible para la función `print` es `end` que controla qué caracter añadir al final del último valor  "
      ]
    },
    {
      "cell_type": "code",
      "metadata": {
        "id": "7JJb6mE3M8vO",
        "colab_type": "code",
        "outputId": "8b09e53b-0b14-4969-db9d-ee9a291ebee2",
        "colab": {
          "base_uri": "https://localhost:8080/",
          "height": 34
        }
      },
      "source": [
        "print(1, 2, 3, end = \".\")"
      ],
      "execution_count": 0,
      "outputs": [
        {
          "output_type": "stream",
          "text": [
            "1 2 3."
          ],
          "name": "stdout"
        }
      ]
    },
    {
      "cell_type": "markdown",
      "metadata": {
        "id": "fVhDZVaEM8vQ",
        "colab_type": "text"
      },
      "source": [
        "o el kwarg `sep`, que controla qué caracter utilizar para separar los diferentes valores"
      ]
    },
    {
      "cell_type": "code",
      "metadata": {
        "id": "eU-OO8X8M8vR",
        "colab_type": "code",
        "outputId": "4f46a413-3f1b-4090-f8e0-f94db41ec0a3",
        "colab": {
          "base_uri": "https://localhost:8080/",
          "height": 34
        }
      },
      "source": [
        "print(1, 2, 3, sep = \",\")"
      ],
      "execution_count": 0,
      "outputs": [
        {
          "output_type": "stream",
          "text": [
            "1,2,3\n"
          ],
          "name": "stdout"
        }
      ]
    },
    {
      "cell_type": "markdown",
      "metadata": {
        "id": "hQsAolSLM8vT",
        "colab_type": "text"
      },
      "source": [
        "Cuando se usan argumentos que no son palabras clave junto con argumentos de palabras clave, los argumentos de palabras clave deben aparecer al final.\n"
      ]
    },
    {
      "cell_type": "code",
      "metadata": {
        "id": "Eh2WINVgM8vV",
        "colab_type": "code",
        "colab": {}
      },
      "source": [
        "print(1, 2, sep = \"\", 3)"
      ],
      "execution_count": 0,
      "outputs": []
    },
    {
      "cell_type": "markdown",
      "metadata": {
        "id": "bVnxdr9jM8vY",
        "colab_type": "text"
      },
      "source": [
        "## Definiendo una función\n",
        "\n",
        "Las funciones se vuelven aún más útiles cuando comenzamos a definir las nuestras. La sintáxis general para crear una función es la siguiente\n",
        "\n",
        ">  \n",
        "\n",
        "    def Funcion( parametros ):\n",
        "\n",
        "            sentencia(s) \n",
        "            \n",
        "            return [expresion]\n",
        "    \n",
        "     \n",
        "* Los bloques de funciones comienzan con la palabra clave `def` seguida del nombre de la función y paréntesis ().\n",
        "* Cualquier parámetro o argumento de entrada debe colocarse entre los paréntesis.\n",
        "* El bloque de código dentro de cada función comienza con dos puntos (:) y está indentado.\n",
        "* La declaración `return [expresion]` termina la función, opcionalmente devuelve una expresión al llamar la función."
      ]
    },
    {
      "cell_type": "markdown",
      "metadata": {
        "id": "ebE0H3VdM8va",
        "colab_type": "text"
      },
      "source": [
        "Podemos definir una función que no tome ningún parámetro ni devuelva ningún valor:"
      ]
    },
    {
      "cell_type": "code",
      "metadata": {
        "id": "665qy4oAM8vb",
        "colab_type": "code",
        "colab": {}
      },
      "source": [
        "def Hola():\n",
        "    print(\"Hola mundo\")\n",
        "    return"
      ],
      "execution_count": 0,
      "outputs": []
    },
    {
      "cell_type": "markdown",
      "metadata": {
        "id": "WD75YvjlM8vg",
        "colab_type": "text"
      },
      "source": [
        "O que sí tome argumentos pero no devuelva ningún valor"
      ]
    },
    {
      "cell_type": "code",
      "metadata": {
        "id": "jIazQDV-M8vh",
        "colab_type": "code",
        "colab": {}
      },
      "source": [
        "def Info(nombre, edad):\n",
        "    print(f\"Nombre: {nombre}\")\n",
        "    print(f\"Edad: {edad}\")\n",
        "    return "
      ],
      "execution_count": 0,
      "outputs": []
    },
    {
      "cell_type": "markdown",
      "metadata": {
        "id": "2JBYHF-ZM8vj",
        "colab_type": "text"
      },
      "source": [
        "Ahora que hemos definido las funciones `Info` y `Hola`, podemos ejecutarlas en cualquier lugar del código (incluso dentro de otra función)"
      ]
    },
    {
      "cell_type": "code",
      "metadata": {
        "id": "JKD9t6xNM8vk",
        "colab_type": "code",
        "outputId": "df3894e1-5b9a-437f-eb7e-c41d7cd0a72a",
        "colab": {
          "base_uri": "https://localhost:8080/",
          "height": 34
        }
      },
      "source": [
        "Hola()"
      ],
      "execution_count": 0,
      "outputs": [
        {
          "output_type": "stream",
          "text": [
            "Hola mundo\n"
          ],
          "name": "stdout"
        }
      ]
    },
    {
      "cell_type": "code",
      "metadata": {
        "id": "f6f0AsvXM8vm",
        "colab_type": "code",
        "outputId": "4f50a9fe-b6ef-4f73-8988-9f5fb4d10d0c",
        "colab": {
          "base_uri": "https://localhost:8080/",
          "height": 51
        }
      },
      "source": [
        "Info(\"Carlos\", 20)"
      ],
      "execution_count": 0,
      "outputs": [
        {
          "output_type": "stream",
          "text": [
            "Nombre:  Carlos\n",
            "Edad:  20\n"
          ],
          "name": "stdout"
        }
      ]
    },
    {
      "cell_type": "markdown",
      "metadata": {
        "id": "sW5TUVN9M8vp",
        "colab_type": "text"
      },
      "source": [
        "Una función ejecutada es igual al valor del `return`. En los casos anteriores, al no tener ningúna expresión en el `return`, la ejecución de la función será del tipo `None` (tener solo `return` es equivalente a `return = None`).\n",
        "\n",
        "Si, por ejemplo, la expresión en el `return` es un string, podemos tratar a la función ejecutada como un string (aplica para cualquier tipo de variable)"
      ]
    },
    {
      "cell_type": "code",
      "metadata": {
        "id": "j8eWMAkAM8vp",
        "colab_type": "code",
        "colab": {}
      },
      "source": [
        "def Info2(nombre, edad):\n",
        "    return nombre, edad"
      ],
      "execution_count": 0,
      "outputs": []
    },
    {
      "cell_type": "code",
      "metadata": {
        "id": "mLV_oXviM8vy",
        "colab_type": "code",
        "outputId": "f2c9c79c-2847-4968-d7b4-aec4fd9ccce0",
        "colab": {
          "base_uri": "https://localhost:8080/",
          "height": 51
        }
      },
      "source": [
        "nombre, edad = Info2(\"Natalia\", 24)\n",
        "\n",
        "print(nombre.upper())\n",
        "print(edad)"
      ],
      "execution_count": 0,
      "outputs": [
        {
          "output_type": "stream",
          "text": [
            "NATALIA\n",
            "24\n"
          ],
          "name": "stdout"
        }
      ]
    },
    {
      "cell_type": "markdown",
      "metadata": {
        "id": "QHxilKSIM8v5",
        "colab_type": "text"
      },
      "source": [
        "Podemos añadir una descripción de la función en la primera línea del bloque de la función (conocida como Docstring), a la que se puede acceder como: `Nombre_funcion.__doc__`"
      ]
    },
    {
      "cell_type": "code",
      "metadata": {
        "id": "YpMbJn7JM8v6",
        "colab_type": "code",
        "colab": {}
      },
      "source": [
        "def Hola():\n",
        "    \"\"\" Imprime Hola mundo \"\"\"\n",
        "    print(\"Hola mundo\")\n",
        "    return\n",
        "\n",
        "Hola.__doc__"
      ],
      "execution_count": 0,
      "outputs": []
    },
    {
      "cell_type": "markdown",
      "metadata": {
        "id": "dqGobRAYM8v9",
        "colab_type": "text"
      },
      "source": [
        "## Argumentos de la función\n",
        "\n",
        "Podemos llamar una función utilizando los siguientes tipos de argumentos formales:\n",
        "\n",
        "* Argumentos requeridos.\n",
        "* Argumentos predeterminados.\n",
        "* Argumentos de longitud variable."
      ]
    },
    {
      "cell_type": "markdown",
      "metadata": {
        "id": "vwfCOmuhM8v-",
        "colab_type": "text"
      },
      "source": [
        "### Argumentos requeridos\n",
        "\n",
        "Los argumentos requeridos son argumentos pasados a una función, que tienen un carácter obligatorio y se dan en el **orden posicional correcto**. Aquí, el número de argumentos en la llamada a la función debe coincidir exactamente con la definición de la función"
      ]
    },
    {
      "cell_type": "code",
      "metadata": {
        "id": "35cy-LV7M8v_",
        "colab_type": "code",
        "colab": {}
      },
      "source": [
        "Info(20, \"Angela\")"
      ],
      "execution_count": 0,
      "outputs": []
    },
    {
      "cell_type": "markdown",
      "metadata": {
        "id": "-gKj3dnKM8wC",
        "colab_type": "text"
      },
      "source": [
        "Si los argumentos los pasamos como argumentos por palabra clave no importará el orden"
      ]
    },
    {
      "cell_type": "code",
      "metadata": {
        "id": "g8eoEQ2cM8wD",
        "colab_type": "code",
        "colab": {}
      },
      "source": [
        "Info(edad = \"20\", nombre = \"Angela\")"
      ],
      "execution_count": 0,
      "outputs": []
    },
    {
      "cell_type": "markdown",
      "metadata": {
        "id": "POck7qY9M8wG",
        "colab_type": "text"
      },
      "source": [
        "### **Argumentos predeterminados**\n",
        "\n",
        "A menudo, al definir una función, hay ciertos valores que queremos que la función use la mayor parte del tiempo, pero también nos gustaría tener cierta flexibilidad en la elección de estos valores. En tal caso, podemos usar valores predeterminados para los argumentos."
      ]
    },
    {
      "cell_type": "code",
      "metadata": {
        "id": "DarhzcNJM8wH",
        "colab_type": "code",
        "colab": {}
      },
      "source": [
        "def Info(nombre, edad = 20):\n",
        "    print(f\"Nombre: {nombre}\")\n",
        "    print(f\"Edad: {edad}\")\n",
        "    return "
      ],
      "execution_count": 0,
      "outputs": []
    },
    {
      "cell_type": "markdown",
      "metadata": {
        "id": "HnYa0vD-M8wJ",
        "colab_type": "text"
      },
      "source": [
        "De esta manera, el argumento `edad` ya no es un argumento requerido"
      ]
    },
    {
      "cell_type": "code",
      "metadata": {
        "id": "Yy0VNLsVM8wJ",
        "colab_type": "code",
        "colab": {}
      },
      "source": [
        "Info(\"Carlos\")"
      ],
      "execution_count": 0,
      "outputs": []
    },
    {
      "cell_type": "markdown",
      "metadata": {
        "id": "-2qv-DpHM8wL",
        "colab_type": "text"
      },
      "source": [
        "Cuando en una función uno de sus argumentos lleva un valor por defecto, éste se convierte automáticamente en un kwarg, tal como un diccionario. Por lo tanto, puede ser especificado indicando su nombre al momento de llamar la función"
      ]
    },
    {
      "cell_type": "code",
      "metadata": {
        "id": "sqhhmUAkM8wM",
        "colab_type": "code",
        "colab": {}
      },
      "source": [
        "Info(\"Carlos\", edad = 25)"
      ],
      "execution_count": 0,
      "outputs": []
    },
    {
      "cell_type": "markdown",
      "metadata": {
        "id": "8TUJ4HTTM8wP",
        "colab_type": "text"
      },
      "source": [
        "**Nota**: Si se define un kwarg para la función, todos los argumentos deben definirse antes de los kwargs."
      ]
    },
    {
      "cell_type": "code",
      "metadata": {
        "id": "J21VjlJ-M8wV",
        "colab_type": "code",
        "colab": {}
      },
      "source": [
        "def Info(edad = 20, nombre):\n",
        "    print(f\"Nombre: {nombre}\")\n",
        "    print(f\"Edad: {edad}\")\n",
        "    return "
      ],
      "execution_count": 0,
      "outputs": []
    },
    {
      "cell_type": "markdown",
      "metadata": {
        "id": "h5f4OCvzM8wv",
        "colab_type": "text"
      },
      "source": [
        "### **Argumentos de longitud variable**\n",
        "\n",
        "Es posible que necesitemos ejecutar una función en la que en principio no sabemos cuántos argumentos se pasarán a la función. En este caso, podemos utilizar una clase especial de argumentos, denominados argumentos de longitud variable, con los que podemos capturar todos los argumentos que se pasen a la función.\n",
        "\n",
        "El argumento de longitud variable `*args` permite capturar una serie de argumentos sin necesidad de especificar en un principio su número"
      ]
    },
    {
      "cell_type": "code",
      "metadata": {
        "id": "fdDvSRlyM8ww",
        "colab_type": "code",
        "colab": {}
      },
      "source": [
        "def Print(*args):\n",
        "    print(f\"args: {args}\")\n",
        "    return\n",
        "\n",
        "Print(1,2,3)"
      ],
      "execution_count": 0,
      "outputs": []
    },
    {
      "cell_type": "markdown",
      "metadata": {
        "id": "9siG9K_vM8wz",
        "colab_type": "text"
      },
      "source": [
        "Lo importante aquí no es el nombre `args`, sino el caracter \\* que lo precede. `args` es solo el nombre que se usa por convención. Un solo * antes de una variable significa **expandir esto como una secuencia**. De hecho, esta sintáxis puede utilizarse no solo en la definición de la función, sino también a la hora de llamar la función "
      ]
    },
    {
      "cell_type": "code",
      "metadata": {
        "id": "6ikqkb7yM8w0",
        "colab_type": "code",
        "colab": {}
      },
      "source": [
        "#pasando el argumento precedido por un *\n",
        "lista = [1,2,3]\n",
        "\n",
        "Print(*lista)"
      ],
      "execution_count": 0,
      "outputs": []
    },
    {
      "cell_type": "markdown",
      "metadata": {
        "id": "Be87pThoM8w3",
        "colab_type": "text"
      },
      "source": [
        "Note que esto se puede realizar incluso si la función no se definió con un argumento `*args`:"
      ]
    },
    {
      "cell_type": "code",
      "metadata": {
        "id": "7VmsvJrYM8w3",
        "colab_type": "code",
        "colab": {}
      },
      "source": [
        "def Funcion(a,b):\n",
        "    return a+b\n",
        "\n",
        "lista = [1,2]\n",
        "Funcion(*lista)"
      ],
      "execution_count": 0,
      "outputs": []
    },
    {
      "cell_type": "markdown",
      "metadata": {
        "id": "efm4rnv8M8w6",
        "colab_type": "text"
      },
      "source": [
        "Al igual que con `*args`, podemos utilizar el argumento por longitud variable `*kwargs` para capturar un número indefinido de argumentos por palabra clave:"
      ]
    },
    {
      "cell_type": "code",
      "metadata": {
        "id": "k-u7Ca3XM8w7",
        "colab_type": "code",
        "outputId": "c6bb6290-e9a8-4aaa-e14d-28e14efcfedf",
        "colab": {
          "base_uri": "https://localhost:8080/",
          "height": 34
        }
      },
      "source": [
        "def Print(**kwargs):\n",
        "    print(\"kwargs: \",kwargs)\n",
        "    return\n",
        "\n",
        "Print(nombre = \"Camilo\", edad = \"25\")"
      ],
      "execution_count": 0,
      "outputs": [
        {
          "output_type": "stream",
          "text": [
            "kwargs:  {'nombre': 'Camilo', 'edad': '25'}\n"
          ],
          "name": "stdout"
        }
      ]
    },
    {
      "cell_type": "markdown",
      "metadata": {
        "id": "pCCqtDsAM8w-",
        "colab_type": "text"
      },
      "source": [
        "Un doble ** antes de una variable significa **expandir esto como un diccionario**"
      ]
    },
    {
      "cell_type": "code",
      "metadata": {
        "id": "Vl-I8vS8M8w_",
        "colab_type": "code",
        "outputId": "a37df564-6c80-4086-fd8c-47e73b97902a",
        "colab": {
          "base_uri": "https://localhost:8080/",
          "height": 34
        }
      },
      "source": [
        "dic = {\"nombre\": \"Camilo\", \"edad\": 25}\n",
        "\n",
        "Print(**dic)"
      ],
      "execution_count": 0,
      "outputs": [
        {
          "output_type": "stream",
          "text": [
            "kwargs:  {'nombre': 'Camilo', 'edad': 25}\n"
          ],
          "name": "stdout"
        }
      ]
    },
    {
      "cell_type": "markdown",
      "metadata": {
        "id": "e8UxOfRkM8xE",
        "colab_type": "text"
      },
      "source": [
        "## Funciones Anónimas\n",
        "\n",
        "Estas funciones se denominan anónimas porque no se declaran de la manera estándar utilizando la palabra clave `def`. Podemos usar la palabra clave `lambda` para crear pequeñas funciones anónimas. La sintáxis general es de la forma:\n",
        "\n",
        "> `lambda arg1, arg2, ... : expresion`"
      ]
    },
    {
      "cell_type": "code",
      "metadata": {
        "id": "nTAgnwkLM8xI",
        "colab_type": "code",
        "colab": {}
      },
      "source": [
        "suma = lambda x, y: x + y \n",
        "\n",
        "suma(1,1)"
      ],
      "execution_count": 0,
      "outputs": []
    },
    {
      "cell_type": "markdown",
      "metadata": {
        "id": "J8wCLuOOM8xL",
        "colab_type": "text"
      },
      "source": [
        "Lo que es equivalente a"
      ]
    },
    {
      "cell_type": "code",
      "metadata": {
        "id": "6FgK4CibM8xM",
        "colab_type": "code",
        "colab": {}
      },
      "source": [
        "def suma(x,y):\n",
        "    return x+y\n",
        "\n",
        "suma(1,1)"
      ],
      "execution_count": 0,
      "outputs": []
    },
    {
      "cell_type": "markdown",
      "metadata": {
        "id": "K-F0avHxwuti",
        "colab_type": "text"
      },
      "source": [
        "## 1.2 Clases\n",
        "\n",
        "Las clases proporcionan un medio de agrupar datos y \"funcionalidad\". La creación de una nueva clase crea un nuevo tipo de objeto, lo que permite crear nuevas *instancias* de ese tipo. Cada instancia de la clase puede tener sus propios atributos. Las instancias de una clase también pueden tener *métodos* (definidos por su clase) para modificar su estado.\n",
        "\n",
        ">\n",
        "    class Nombre:\n",
        "          sentencia(s)"
      ]
    },
    {
      "cell_type": "markdown",
      "metadata": {
        "id": "o1Ng4fl0xN1z",
        "colab_type": "text"
      },
      "source": [
        "Los atributos son como propiedades que queremos añadir a la clase. Adicionalmente, dentro de las clases podemos definir funciones, conocidas como **métodos**. Los métodos necesitan tener un argumento convenientemente llamado `self`, que se refiere al objeto del método que está siendo llamado. Podemos pasar más de un argumento si así lo deseamos"
      ]
    },
    {
      "cell_type": "code",
      "metadata": {
        "id": "_LTs9TVuxS-D",
        "colab_type": "code",
        "colab": {}
      },
      "source": [
        "class Persona:\n",
        "    nombre = ''\n",
        "    edad = ''\n",
        "     \n",
        "    def print_informacion(self, nombre, edad):\n",
        "        print(f'nombre: {self.nombre}')\n",
        "        print(f'edad: {self.edad}')\n",
        "             \n",
        "carlos = Persona()\n",
        "carlos.nombre = 'carlos'\n",
        "carlos.edad = '30'\n",
        "carlos.print_informacion(carlos.nombre, carlos.edad)"
      ],
      "execution_count": 0,
      "outputs": []
    },
    {
      "cell_type": "markdown",
      "metadata": {
        "id": "HB0HD6cBx9g2",
        "colab_type": "text"
      },
      "source": [
        "La operación de creación de instancias crea un objeto vacío. Podemos crear objetos con instancias personalizadas a un estado inicial específico utilizando un método especial llamado `__init __`"
      ]
    },
    {
      "cell_type": "code",
      "metadata": {
        "id": "RhFTHdL5yTVL",
        "colab_type": "code",
        "colab": {}
      },
      "source": [
        "class Person:\n",
        "  def __init__(self,n,e):\n",
        "    self.nombre = n\n",
        "    self.edad = e\n",
        "      \n",
        "mario = Person('mario','55')\n",
        "print('nombre:',mario.nombre)\n",
        "print('edad:',mario.edad)"
      ],
      "execution_count": 0,
      "outputs": []
    },
    {
      "cell_type": "markdown",
      "metadata": {
        "colab_type": "text",
        "id": "HYCPVX-wv60d"
      },
      "source": [
        "# 2. Módulos\n",
        "\n",
        "Una característica de Python que lo hace útil para una amplia gama de tareas es el hecho de que viene con \"baterías incluidas\", es decir, la [biblioteca estándar de Python](https://docs.python.org/3/library/) contiene herramientas útiles para una amplia gama de tareas. Además de esto, hay un amplio ecosistema de herramientas y paquetes de terceros que ofrecen una funcionalidad más especializada.\n",
        "\n",
        "Para importar módulos de Python o de terceros, utilizamos la palabra clave `import`. Esta puede ser utilizada de varias maneras. Trabajemos con el módulo `math`, que contiene una serie de funciones matemáticas."
      ]
    },
    {
      "cell_type": "code",
      "metadata": {
        "colab_type": "code",
        "id": "21LjkRywv6jj",
        "colab": {}
      },
      "source": [
        "#importar el modulo explicitamente\n",
        "import math"
      ],
      "execution_count": 0,
      "outputs": []
    },
    {
      "cell_type": "markdown",
      "metadata": {
        "colab_type": "text",
        "id": "UyWxkM7Mv6Qk"
      },
      "source": [
        "La función incorporada `dir()` devuelve una lista ordenada que contiene los nombres definidos por un módulo. La lista contiene los nombres de todas las variables y funciones que se definen en un módulo."
      ]
    },
    {
      "cell_type": "code",
      "metadata": {
        "colab_type": "code",
        "id": "NQsh1WBMv54A",
        "colab": {}
      },
      "source": [
        "dir(math)"
      ],
      "execution_count": 0,
      "outputs": []
    },
    {
      "cell_type": "markdown",
      "metadata": {
        "id": "0coRPBnqNuJ7",
        "colab_type": "text"
      },
      "source": [
        "Recordemos que en Python todo es un objeto, por lo que para acceder a los métodos (funciones) del objeto `math` utilizamos el operador `(.)`\n",
        "\n",
        "Para obtener una descripción detallada de alguna función de la librería utilizamos la función `help`"
      ]
    },
    {
      "cell_type": "code",
      "metadata": {
        "id": "TwiUMkp2Nnw4",
        "colab_type": "code",
        "colab": {}
      },
      "source": [
        "help(math.cos)"
      ],
      "execution_count": 0,
      "outputs": []
    },
    {
      "cell_type": "markdown",
      "metadata": {
        "id": "_9Ox-Ko55Wlr",
        "colab_type": "text"
      },
      "source": [
        "O utilizar el símbolo `?`"
      ]
    },
    {
      "cell_type": "code",
      "metadata": {
        "id": "1PEZftBZ5RBw",
        "colab_type": "code",
        "colab": {}
      },
      "source": [
        "?math.cos"
      ],
      "execution_count": 0,
      "outputs": []
    },
    {
      "cell_type": "code",
      "metadata": {
        "id": "nQ4sFftEM8u8",
        "colab_type": "code",
        "colab": {}
      },
      "source": [
        "math.cos(math.pi)"
      ],
      "execution_count": 0,
      "outputs": []
    },
    {
      "cell_type": "markdown",
      "metadata": {
        "id": "nmmcuyFyOx8A",
        "colab_type": "text"
      },
      "source": [
        "Podemos exportar el módulo explícitamente con un \"alias\"\n"
      ]
    },
    {
      "cell_type": "code",
      "metadata": {
        "id": "33D2SgwXM8u_",
        "colab_type": "code",
        "colab": {}
      },
      "source": [
        "import math as m\n",
        "\n",
        "m.cos(m.pi)"
      ],
      "execution_count": 0,
      "outputs": []
    },
    {
      "cell_type": "markdown",
      "metadata": {
        "id": "ie1oHvgaO7ND",
        "colab_type": "text"
      },
      "source": [
        "Alternativamente, podemos exportar todo el módulo, o solo algunas de sus funciones, de manera implícita"
      ]
    },
    {
      "cell_type": "code",
      "metadata": {
        "id": "FJXHHJsIM8vB",
        "colab_type": "code",
        "colab": {}
      },
      "source": [
        "from math import *\n",
        "\n",
        "cos(pi)"
      ],
      "execution_count": 0,
      "outputs": []
    },
    {
      "cell_type": "code",
      "metadata": {
        "id": "HUcDZdOVM8vE",
        "colab_type": "code",
        "colab": {}
      },
      "source": [
        "from math import sqrt\n",
        "\n",
        "sqrt(2)"
      ],
      "execution_count": 0,
      "outputs": []
    },
    {
      "cell_type": "markdown",
      "metadata": {
        "id": "uUFxOlP9M8vG",
        "colab_type": "text"
      },
      "source": [
        "Para importar paquetes de terceros la sintáxis es la misma, solo que primero tenemos que instalar los módulos en nuestra máquina o entorno. En Google Colab, la mayoría de paquetes de terceros vienen instalados por defecto."
      ]
    },
    {
      "cell_type": "markdown",
      "metadata": {
        "id": "Q2JMTSwH5uup",
        "colab_type": "text"
      },
      "source": [
        "# 3. NumPy\n",
        "\n",
        "En el núcleo de la mayoría de los problemas encontramos un **arreglo**. Desde el punto de vista computacional, un arreglo es un bloque contiguo de memoria donde cada elemento tiene el mismo tipo.\n",
        "\n",
        "Los diferentes lenguajes de programación utilizados en computación científica tienen alguna noción de manejo de datos basado en arreglos, ya sea integrado en el lenguaje propio o a través de paquetes proporcionados por terceros.\n",
        "\n",
        "NumPy (Numerical Python) es el paquete fundamental para la computación científica en Python. Es una libreria de Python que proporciona herramientas para la generación de arreglos y una variedad de funcionalidades para realizar operaciones sobre estos, que generalmente se realizan de una manera más eficiente que lo que se puede lograr con funcionalidades propias de Python. NumPy sirve como bloque básico para una gran cantidad de paquetes científicos y de análisis de datos."
      ]
    },
    {
      "cell_type": "markdown",
      "metadata": {
        "id": "vB-vvDPh6hHk",
        "colab_type": "text"
      },
      "source": [
        "## Arreglos en NumPy\n",
        "\n",
        "La implementación estándar de Python está escrita en C. Esto significa que cada objeto de Python es simplemente una estructura de C, que contiene no solo su valor, sino también otra información. Por ejemplo, cuando definimos un número entero en Python, como $x = 10000$, $x$ no es solo un número entero \"en bruto\". En realidad, es un puntero a una estructura compuesta de C, que contiene cuatro valores diferentes: referencia, tipo, tamaño y valor."
      ]
    },
    {
      "cell_type": "markdown",
      "metadata": {
        "id": "McsjXQR16rhL",
        "colab_type": "text"
      },
      "source": [
        "<p><img alt=\"Colaboratory logo\" height=\"150px\" src=\"https://i.imgur.com/qSGYNQe.png\" align=\"left\" hspace=\"10px\" vspace=\"0px\"></p>"
      ]
    },
    {
      "cell_type": "markdown",
      "metadata": {
        "id": "Och3uaPn6y2a",
        "colab_type": "text"
      },
      "source": [
        "Recordemos que en Python, al ser un lenguaje de tipado dinámico, podemos generar listas donde cada uno de sus elementos pueden ser de cualquier tipo"
      ]
    },
    {
      "cell_type": "code",
      "metadata": {
        "id": "b8dpFyI66sA0",
        "colab_type": "code",
        "outputId": "bd09cfc3-1712-4e46-aa5f-303e737c4737",
        "colab": {
          "base_uri": "https://localhost:8080/",
          "height": 34
        }
      },
      "source": [
        "L = [True, \"2\", 3.0, 4]\n",
        "\n",
        "[type(i) for i in L]"
      ],
      "execution_count": 0,
      "outputs": [
        {
          "output_type": "execute_result",
          "data": {
            "text/plain": [
              "[bool, str, float, int]"
            ]
          },
          "metadata": {
            "tags": []
          },
          "execution_count": 9
        }
      ]
    },
    {
      "cell_type": "markdown",
      "metadata": {
        "id": "sqrf7zkj68lj",
        "colab_type": "text"
      },
      "source": [
        "Recordemos que esta flexibilidad tiene un costo: cada elemento de la lista debe contener su propia información, es decir, cada elemento es un objeto completo de Python. En el caso especial en que todas las variables sean del mismo tipo, gran parte de esta información es redundante: puede ser mucho más eficiente almacenar datos en un arreglo de tipo homogéneo. Python ofrece diferentes opciones para almacenar datos de esta manera (por ejemplo a través del módulo `array`). Sin embargo, la mejor manera de generar este tipo de objetos es a través de la libreria NumPy.\n",
        "\n",
        "En el núcleo de NumPy, está el objeto `ndarray` (n-dimensional array). Este encapsula arreglos n-dimensionales de tipos de datos homogéneos, con muchas operaciones que se realizan en código compilado, con lo cual se mejora el rendimiento significativamente. La diferencia entre una lista de tipo dinámico y un arreglo de tipo fijo (al estilo NumPy) se ilustra en la siguiente figura:"
      ]
    },
    {
      "cell_type": "markdown",
      "metadata": {
        "id": "piNAJ-tk7M_J",
        "colab_type": "text"
      },
      "source": [
        "<p><img alt=\"Colaboratory logo\" height=\"350px\" src=\"https://i.imgur.com/8EbyB0c.png\" align=\"left\" hspace=\"10px\" vspace=\"0px\"></p>\n"
      ]
    },
    {
      "cell_type": "markdown",
      "metadata": {
        "id": "mwnC35iy7RGY",
        "colab_type": "text"
      },
      "source": [
        "Al nivel de implementación, el arreglo contiene esencialmente un puntero único a un bloque contiguo de datos. La lista de Python, por otro lado, contiene un puntero a un bloque de punteros, cada uno de los cuales a su vez apunta a un objeto completo de Python como el entero de Python que vimos anteriormente.\n",
        "\n",
        "En resumen, estas son las diferencias más importantes entre los arreglos de NumPy y las secuencias estándar de Python:\n",
        "\n",
        "* Todos los elementos en un arreglo de NumPy deben ser del mismo tipo de datos y, por lo tanto, tendrán el mismo tamaño en memoria.\n",
        "* Los arreglos de NumPy tienen un tamaño fijo en la creación, a diferencia de las listas de Python (que pueden crecer dinámicamente). Cambiar el tamaño de un `ndarray` creará un nuevo arreglo y eliminará el original.\n",
        "* Los arreglos de NumPy facilitan operaciones avanzadas matemáticas y de otro tipo en grandes cantidades de datos. Típicamente, tales operaciones se ejecutan de manera más eficiente que usando las secuencias integradas de Python.\n",
        "* Una creciente cantidad de paquetes científicos y matemáticos basados ​​en Python están utilizando arreglos de NumPy"
      ]
    },
    {
      "cell_type": "markdown",
      "metadata": {
        "id": "HiYJix_W8AM1",
        "colab_type": "text"
      },
      "source": [
        "## Creando arreglos con NumPy\n",
        "\n",
        "En lugar de crearse directamente, los `ndarrays` a menudo se instancian a través de la función `array()` que también proporciona NumPy. Para crear un arreglo, importamos NumPy y llamamos a la función `array()` en una secuencia de Python. \n",
        "\n",
        "Por convención, el paquete NumPy se importa con el alias `np`:"
      ]
    },
    {
      "cell_type": "code",
      "metadata": {
        "id": "D3NEzUtw647u",
        "colab_type": "code",
        "outputId": "209843e3-1fd2-4ffe-8a69-b962233a6cf0",
        "colab": {
          "base_uri": "https://localhost:8080/",
          "height": 34
        }
      },
      "source": [
        "import numpy as np\n",
        "\n",
        "#crear arreglo a partir de una lista de Python\n",
        "a = np.array([1, 2, 3, 4])\n",
        "\n",
        "print(a, type(a))"
      ],
      "execution_count": 0,
      "outputs": [
        {
          "output_type": "stream",
          "text": [
            "[1 2 3 4] <class 'numpy.ndarray'>\n"
          ],
          "name": "stdout"
        }
      ]
    },
    {
      "cell_type": "markdown",
      "metadata": {
        "id": "Q6n8OJwL8iK4",
        "colab_type": "text"
      },
      "source": [
        "NumPy proporciona varias formas de crear arreglos además de la función normal `array()`. Las cinco funciones más comunes son `arange()`, `zeros()`, `ones()`, `full()` y `empty()`. \n",
        "\n",
        "La función `arange()` toma un inicio, final y un paso exactamente igual a la función `range()` de Python, excepto que devuelve un `ndarray`:"
      ]
    },
    {
      "cell_type": "code",
      "metadata": {
        "id": "7bEkkqXd8PfF",
        "colab_type": "code",
        "outputId": "8ef87df7-4d48-4599-d993-ea28e9b6eb98",
        "colab": {
          "base_uri": "https://localhost:8080/",
          "height": 34
        }
      },
      "source": [
        "#crear un arreglo de manera similar a la funcion range()\n",
        "np.arange(1,10,2)"
      ],
      "execution_count": 0,
      "outputs": [
        {
          "output_type": "execute_result",
          "data": {
            "text/plain": [
              "array([1, 3, 5, 7, 9])"
            ]
          },
          "metadata": {
            "tags": []
          },
          "execution_count": 11
        }
      ]
    },
    {
      "cell_type": "markdown",
      "metadata": {
        "id": "1hS4T8SH8sno",
        "colab_type": "text"
      },
      "source": [
        "Las funciones `zeros()` y `ones()` toman un entero o una tupla de enteros como argumento y devuelven un `ndarray` cuya forma coincide con la de la tupla y cuyos elementos son cero o uno:"
      ]
    },
    {
      "cell_type": "code",
      "metadata": {
        "id": "0y3sgSwh8mEA",
        "colab_type": "code",
        "colab": {}
      },
      "source": [
        "#crear un arreglo de 5 elementos llenado con ceros\n",
        "np.zeros(5)"
      ],
      "execution_count": 0,
      "outputs": []
    },
    {
      "cell_type": "code",
      "metadata": {
        "id": "_VOvn3ZJ81M4",
        "colab_type": "code",
        "colab": {}
      },
      "source": [
        "#crear un arreglo de dimension 2x2 llenado con ceros\n",
        "np.zeros((2,2))"
      ],
      "execution_count": 0,
      "outputs": []
    },
    {
      "cell_type": "code",
      "metadata": {
        "id": "wG8DjfaK841T",
        "colab_type": "code",
        "outputId": "d32c713a-c491-46a7-841f-8e0933e5170b",
        "colab": {
          "base_uri": "https://localhost:8080/",
          "height": 34
        }
      },
      "source": [
        "#crear un arreglo de 5 elementos llenado con unos\n",
        "np.ones(5)"
      ],
      "execution_count": 0,
      "outputs": [
        {
          "output_type": "execute_result",
          "data": {
            "text/plain": [
              "array([1., 1., 1., 1., 1.])"
            ]
          },
          "metadata": {
            "tags": []
          },
          "execution_count": 15
        }
      ]
    },
    {
      "cell_type": "code",
      "metadata": {
        "id": "ULTvyzcI86zL",
        "colab_type": "code",
        "outputId": "dfee5b8f-5b5f-4fdf-d64d-47c2296b5d0a",
        "colab": {
          "base_uri": "https://localhost:8080/",
          "height": 51
        }
      },
      "source": [
        "#crear un arreglo de dimension 2x2 llenado con unos\n",
        "np.ones((2,2))"
      ],
      "execution_count": 0,
      "outputs": [
        {
          "output_type": "execute_result",
          "data": {
            "text/plain": [
              "array([[1., 1.],\n",
              "       [1., 1.]])"
            ]
          },
          "metadata": {
            "tags": []
          },
          "execution_count": 14
        }
      ]
    },
    {
      "cell_type": "markdown",
      "metadata": {
        "id": "rZIYUmil8_67",
        "colab_type": "text"
      },
      "source": [
        "La función `full()` funciona de manera similar a `zeros()` y `ones()`, solo que podemos llenar el arreglo con cualquier valor:"
      ]
    },
    {
      "cell_type": "code",
      "metadata": {
        "id": "4RwQWT2-9BjT",
        "colab_type": "code",
        "outputId": "a7e821f7-42ed-4291-f7c5-f41f28191542",
        "colab": {
          "base_uri": "https://localhost:8080/",
          "height": 51
        }
      },
      "source": [
        "#crear un arreglo 2x2 llenado con pi\n",
        "np.full((2,2), np.sin(np.pi))"
      ],
      "execution_count": 0,
      "outputs": [
        {
          "output_type": "execute_result",
          "data": {
            "text/plain": [
              "array([[1.2246468e-16, 1.2246468e-16],\n",
              "       [1.2246468e-16, 1.2246468e-16]])"
            ]
          },
          "metadata": {
            "tags": []
          },
          "execution_count": 13
        }
      ]
    },
    {
      "cell_type": "markdown",
      "metadata": {
        "id": "m9BHs47n9GH1",
        "colab_type": "text"
      },
      "source": [
        "La función `empty()`, por otro lado, simplemente asignará memoria sin asignarle ningún valor. Esto significa que el contenido de un arreglo vacío será lo que esté en la memoria en ese momento."
      ]
    },
    {
      "cell_type": "code",
      "metadata": {
        "id": "RfftR7_P9Iis",
        "colab_type": "code",
        "outputId": "c0744a13-3e43-4b18-c06d-a3b2b14b8c4b",
        "colab": {
          "base_uri": "https://localhost:8080/",
          "height": 34
        }
      },
      "source": [
        "#crear un arreglo vacio de 4 elementos \n",
        "np.empty(4)"
      ],
      "execution_count": 0,
      "outputs": [
        {
          "output_type": "execute_result",
          "data": {
            "text/plain": [
              "array([1., 1., 1., 0.])"
            ]
          },
          "metadata": {
            "tags": []
          },
          "execution_count": 12
        }
      ]
    },
    {
      "cell_type": "markdown",
      "metadata": {
        "id": "OxSJE9Gp9ftH",
        "colab_type": "text"
      },
      "source": [
        "También es importante conocer la función `linspace()`. Esta crea una grilla de puntos uniformemente lineal entre un límite inferior y superior que incluye ambos extremos. Su sintáxis es de la forma:\n",
        "\n",
        "> \n",
        "    np.linspace(inicio, final, número de puntos)"
      ]
    },
    {
      "cell_type": "code",
      "metadata": {
        "id": "HLhFM4mb9iwM",
        "colab_type": "code",
        "colab": {}
      },
      "source": [
        "np.linspace(0, 1, 10)"
      ],
      "execution_count": 0,
      "outputs": []
    },
    {
      "cell_type": "markdown",
      "metadata": {
        "id": "QxUlBrg69zXY",
        "colab_type": "text"
      },
      "source": [
        "## Atributos de los arreglos de Numpy\n",
        "\n",
        "Para todos estos mecanismos de creación de arreglos, el objeto `ndarray` representa efectivamente un bloque de memoria de tamaño fijo y metadatos (información acerca de la estructura de datos) que definen las características del arreglo. \n",
        "\n",
        "###  dtype: \n",
        "\n",
        "El tipo de dato (data type) es el atributo más importante. Este determina el tamaño y el significado de cada elemento del arreglo. El sistema predeterminado de dtypes que proporciona NumPy es más preciso y más amplio para los tipos básicos que el sistema de tipos que implementa el lenguaje Python"
      ]
    },
    {
      "cell_type": "markdown",
      "metadata": {
        "id": "LRREAPgB97Sm",
        "colab_type": "text"
      },
      "source": [
        "### shape: \n",
        "\n",
        "Tupla de enteros que representa el rango a lo largo de cada dimensión."
      ]
    },
    {
      "cell_type": "code",
      "metadata": {
        "id": "lg3G2cLN90_W",
        "colab_type": "code",
        "outputId": "0ac49d43-af19-4782-83e5-2c18a5addf17",
        "colab": {
          "base_uri": "https://localhost:8080/",
          "height": 34
        }
      },
      "source": [
        "a = np.zeros((2, 2))\n",
        "\n",
        "a.shape"
      ],
      "execution_count": 0,
      "outputs": [
        {
          "output_type": "execute_result",
          "data": {
            "text/plain": [
              "(2, 2)"
            ]
          },
          "metadata": {
            "tags": []
          },
          "execution_count": 18
        }
      ]
    },
    {
      "cell_type": "markdown",
      "metadata": {
        "id": "xvhRxuBs-Iqd",
        "colab_type": "text"
      },
      "source": [
        "NumPy proporciona la función `reshape()`, con la cual podemos cambiar la forma de un arreglo. Esta toma como argumento el arreglo a modificar y un entero o tupla que represente la nueva forma"
      ]
    },
    {
      "cell_type": "code",
      "metadata": {
        "id": "IAYX7msB-CSB",
        "colab_type": "code",
        "outputId": "6c784763-8f06-48ee-9f2f-1222dce9c482",
        "colab": {
          "base_uri": "https://localhost:8080/",
          "height": 68
        }
      },
      "source": [
        "a = np.arange(4)\n",
        "\n",
        "b = np.reshape(a, (2, 2))\n",
        "\n",
        "print(a)\n",
        "print(b)"
      ],
      "execution_count": 0,
      "outputs": [
        {
          "output_type": "stream",
          "text": [
            "[0 1 2 3]\n",
            "[[0 1]\n",
            " [2 3]]\n"
          ],
          "name": "stdout"
        }
      ]
    },
    {
      "cell_type": "markdown",
      "metadata": {
        "id": "Fse3bpo4-ibU",
        "colab_type": "text"
      },
      "source": [
        "El criterio a cumplir para proporcionar la nueva forma es que esta **debe ser compatible con la forma original**.\n",
        "\n",
        "Otros atributos útiles son:\n",
        "\n",
        "* `ndim`: Número de dimensiones (`int`).\n",
        "\n",
        "* `size`: Número total de elementos (`int`), igual al producto de todos los elementos de `shape`."
      ]
    },
    {
      "cell_type": "code",
      "metadata": {
        "id": "zk28lIdg-XJC",
        "colab_type": "code",
        "outputId": "df42a206-bfd9-4dc1-fca9-7fea7fb75f8c",
        "colab": {
          "base_uri": "https://localhost:8080/",
          "height": 102
        }
      },
      "source": [
        "a = np.arange(1, 10).reshape((3, 3))  \n",
        "\n",
        "print(a)\n",
        "print(\"Número de dimensiones: \",a.ndim)\n",
        "print(\"Número total de elementos: \",a.size)"
      ],
      "execution_count": 0,
      "outputs": [
        {
          "output_type": "stream",
          "text": [
            "[[1 2 3]\n",
            " [4 5 6]\n",
            " [7 8 9]]\n",
            "Número de dimensiones:  2\n",
            "Número total de elementos:  9\n"
          ],
          "name": "stdout"
        }
      ]
    },
    {
      "cell_type": "markdown",
      "metadata": {
        "id": "rFkc098l_fE9",
        "colab_type": "text"
      },
      "source": [
        "## Indexación y segmentación\n",
        "\n",
        "Los arreglos de NumPy tienen la misma semántica de indexación y segmentación que las listas de Python cuando se trata de acceder a elementos o subarreglos:\n",
        "\n",
        "\n",
        "> `arreglo[inicio:final:paso]` "
      ]
    },
    {
      "cell_type": "code",
      "metadata": {
        "id": "SbZXEhYV-9eS",
        "colab_type": "code",
        "colab": {}
      },
      "source": [
        "a = np.arange(8)\n",
        "\n",
        "print(\"a:\\n\",a)\n",
        "\n",
        "print(\"a[2:6]:\\n\",a[2:6])\n",
        "\n",
        "print(\"a[1::3]:\\n\",a[1::3])\n",
        "\n",
        "print(\"a[::-1]:\\n\",a[::-1])"
      ],
      "execution_count": 0,
      "outputs": []
    },
    {
      "cell_type": "markdown",
      "metadata": {
        "id": "QskyRtV6BKrl",
        "colab_type": "text"
      },
      "source": [
        "En NumPy, en lugar de indexar por un segmento, podemos indexar por una tupla de segmentos, cada uno de los cuales actúa en sus propias dimensiones:"
      ]
    },
    {
      "cell_type": "code",
      "metadata": {
        "id": "gi0YyHb1BP9n",
        "colab_type": "code",
        "outputId": "593023dc-2a4c-4ca3-ee8a-a201fc928873",
        "colab": {
          "base_uri": "https://localhost:8080/",
          "height": 68
        }
      },
      "source": [
        "a = np.arange(1,10).reshape(3,3)\n",
        "a"
      ],
      "execution_count": 0,
      "outputs": [
        {
          "output_type": "execute_result",
          "data": {
            "text/plain": [
              "array([[1, 2, 3],\n",
              "       [4, 5, 6],\n",
              "       [7, 8, 9]])"
            ]
          },
          "metadata": {
            "tags": []
          },
          "execution_count": 23
        }
      ]
    },
    {
      "cell_type": "code",
      "metadata": {
        "id": "IxXrAI0NBQZ2",
        "colab_type": "code",
        "outputId": "50d92311-df63-40b5-bb55-1b35ed68cb68",
        "colab": {
          "base_uri": "https://localhost:8080/",
          "height": 68
        }
      },
      "source": [
        "S = a[:,0:2]\n",
        "S"
      ],
      "execution_count": 0,
      "outputs": [
        {
          "output_type": "execute_result",
          "data": {
            "text/plain": [
              "array([[1, 2],\n",
              "       [4, 5],\n",
              "       [7, 8]])"
            ]
          },
          "metadata": {
            "tags": []
          },
          "execution_count": 24
        }
      ]
    },
    {
      "cell_type": "markdown",
      "metadata": {
        "id": "aTOBEnEaCLjE",
        "colab_type": "text"
      },
      "source": [
        "Los ciclos `for` para la segmentación multidimensional son manejados implícitamente por NumPy. Esto hace que ejecutar cortes complejos sea mucho más rápido que escribir los ciclos `for` explícitamente en Python. Si un eje se deja fuera de una segmentación multidimensional, se incluyen todos los elementos a lo largo de esa dimensión. También tenga en cuenta que las filas van antes que las columnas en NumPy. Veamos algunos ejemplos:"
      ]
    },
    {
      "cell_type": "code",
      "metadata": {
        "id": "etPzixB8BRwp",
        "colab_type": "code",
        "outputId": "d6684ece-4321-4557-defc-bcd6a94e87bf",
        "colab": {
          "base_uri": "https://localhost:8080/",
          "height": 85
        }
      },
      "source": [
        "#creamos un arreglo de dimensiones 4x4\n",
        "a = np.arange(16).reshape(4, 4)\n",
        "a"
      ],
      "execution_count": 0,
      "outputs": [
        {
          "output_type": "execute_result",
          "data": {
            "text/plain": [
              "array([[ 0,  1,  2,  3],\n",
              "       [ 4,  5,  6,  7],\n",
              "       [ 8,  9, 10, 11],\n",
              "       [12, 13, 14, 15]])"
            ]
          },
          "metadata": {
            "tags": []
          },
          "execution_count": 32
        }
      ]
    },
    {
      "cell_type": "code",
      "metadata": {
        "id": "TAyToauXCQwz",
        "colab_type": "code",
        "outputId": "92e2e4ea-8fb3-4b58-d5fd-4b6d551ab5f7",
        "colab": {
          "base_uri": "https://localhost:8080/",
          "height": 51
        }
      },
      "source": [
        "#segmentar las filas pares y las columnas impares.\n",
        "a[::2, 1::2]"
      ],
      "execution_count": 0,
      "outputs": [
        {
          "output_type": "execute_result",
          "data": {
            "text/plain": [
              "array([[ 1,  3],\n",
              "       [ 9, 11]])"
            ]
          },
          "metadata": {
            "tags": []
          },
          "execution_count": 40
        }
      ]
    },
    {
      "cell_type": "code",
      "metadata": {
        "id": "qM_o87F_CRyk",
        "colab_type": "code",
        "outputId": "78c5d4e6-639d-4960-8e9e-968a1d7c1d3d",
        "colab": {
          "base_uri": "https://localhost:8080/",
          "height": 51
        }
      },
      "source": [
        "#segmentar la matriz interna de 2x2.\n",
        "a[1:3, 1:3]"
      ],
      "execution_count": 0,
      "outputs": [
        {
          "output_type": "execute_result",
          "data": {
            "text/plain": [
              "array([[ 5,  6],\n",
              "       [ 9, 10]])"
            ]
          },
          "metadata": {
            "tags": []
          },
          "execution_count": 34
        }
      ]
    },
    {
      "cell_type": "code",
      "metadata": {
        "id": "3hYGt6DzCTA6",
        "colab_type": "code",
        "outputId": "613e22dc-f859-4f36-b525-3cf7443876d0",
        "colab": {
          "base_uri": "https://localhost:8080/",
          "height": 68
        }
      },
      "source": [
        "#invertir las primeras 3 filas, tomando las primeras 3 columnas\n",
        "a[2::-1, :3]"
      ],
      "execution_count": 0,
      "outputs": [
        {
          "output_type": "execute_result",
          "data": {
            "text/plain": [
              "array([[ 8,  9, 10],\n",
              "       [ 4,  5,  6],\n",
              "       [ 0,  1,  2]])"
            ]
          },
          "metadata": {
            "tags": []
          },
          "execution_count": 35
        }
      ]
    },
    {
      "cell_type": "code",
      "metadata": {
        "id": "ui_izquECUXL",
        "colab_type": "code",
        "outputId": "501973dc-ba01-429f-ca83-dd02935ba187",
        "colab": {
          "base_uri": "https://localhost:8080/",
          "height": 34
        }
      },
      "source": [
        "#seleccionar la primer fila (equivalente a a[0,:])\n",
        "a[0]"
      ],
      "execution_count": 0,
      "outputs": [
        {
          "output_type": "execute_result",
          "data": {
            "text/plain": [
              "array([0, 1, 2, 3])"
            ]
          },
          "metadata": {
            "tags": []
          },
          "execution_count": 36
        }
      ]
    },
    {
      "cell_type": "markdown",
      "metadata": {
        "id": "_1Agg5nADD5J",
        "colab_type": "text"
      },
      "source": [
        "La característica más importante de la segmentación de arreglos es que las segmentaciones son *vistas* del arreglo original (No se copian datos cuando se realiza una segmentación, lo que hace que NumPy sea especialmente rápido para las operaciones de segmentación). Si realmente deseamos una copia de una segmentación de un arreglo, siempre podemos crear un nuevo arreglo a partir de esta segmentación de la siguiente manera:"
      ]
    },
    {
      "cell_type": "code",
      "metadata": {
        "id": "sAv11XvpCWrU",
        "colab_type": "code",
        "outputId": "48099ab8-7607-4194-c981-b3d0a37726dd",
        "colab": {
          "base_uri": "https://localhost:8080/",
          "height": 51
        }
      },
      "source": [
        "a = np.arange(5)\n",
        "\n",
        "b = np.array(a[1::2])\n",
        "\n",
        "b[1] = 42\n",
        "\n",
        "print(\"a: \",a)\n",
        "print(\"b: \",b)"
      ],
      "execution_count": 0,
      "outputs": [
        {
          "output_type": "stream",
          "text": [
            "a:  [0 1 2 3 4]\n",
            "b:  [ 1 42]\n"
          ],
          "name": "stdout"
        }
      ]
    },
    {
      "cell_type": "markdown",
      "metadata": {
        "id": "9fjI-oaqDOAr",
        "colab_type": "text"
      },
      "source": [
        "También se puede utilizar el método `copy()` de la siguiente manera:"
      ]
    },
    {
      "cell_type": "code",
      "metadata": {
        "id": "1fJqXQHgDXEi",
        "colab_type": "code",
        "outputId": "9e6f4d2d-f2db-4f45-9f38-3c9e22db7acc",
        "colab": {
          "base_uri": "https://localhost:8080/",
          "height": 51
        }
      },
      "source": [
        "a = np.arange(5)\n",
        "\n",
        "b = a[1::2].copy()\n",
        "\n",
        "b[1] = 42\n",
        "\n",
        "print(\"a: \",a)\n",
        "print(\"b: \",b)"
      ],
      "execution_count": 0,
      "outputs": [
        {
          "output_type": "stream",
          "text": [
            "a:  [0 1 2 3 4]\n",
            "b:  [ 1 42]\n"
          ],
          "name": "stdout"
        }
      ]
    },
    {
      "cell_type": "markdown",
      "metadata": {
        "id": "7TovA6zKEXVd",
        "colab_type": "text"
      },
      "source": [
        "# Operaciones sobre los arreglos\n",
        "\n",
        "Ahora que hemos visto cómo definir y manipular arreglos, podemos discutir cómo transformarlos. El computo sobre arreglos en NumPy puede ser muy rápido o muy lento. La clave para hacerlo rápido es usar operaciones *vectorizadas*, generalmente implementadas a través de las funciones universales de NumPy (ufuncs)\n",
        "\n",
        "Supongamos que tenemos un arreglo de valores para los cuales queremos calcular el recíproco. Un primer método en el que pensariamos sería utilizando un ciclo `for` de la siguiente manera:"
      ]
    },
    {
      "cell_type": "code",
      "metadata": {
        "id": "QP4KMsWjDYQn",
        "colab_type": "code",
        "outputId": "460d83a1-78b3-41b1-a256-5c40495611da",
        "colab": {
          "base_uri": "https://localhost:8080/",
          "height": 34
        }
      },
      "source": [
        "def Reciproco(valores):\n",
        "  \"\"\" Función que calcula el recíproco para cada elemento en un arreglo \"\"\"\n",
        "\n",
        "  salida = np.empty(len(valores))\n",
        "\n",
        "  for i in range(len(valores)):\n",
        "    salida[i] = 1.0 / valores[i]\n",
        "    \n",
        "  return salida\n",
        "\n",
        "a = np.array([1, 2, 3])\n",
        "\n",
        "Reciproco(a)"
      ],
      "execution_count": 0,
      "outputs": [
        {
          "output_type": "execute_result",
          "data": {
            "text/plain": [
              "array([1.        , 0.5       , 0.33333333])"
            ]
          },
          "metadata": {
            "tags": []
          },
          "execution_count": 44
        }
      ]
    },
    {
      "cell_type": "markdown",
      "metadata": {
        "id": "1_Q2vMqSEmZ3",
        "colab_type": "text"
      },
      "source": [
        "Si medimos el tiempo de ejecución de este código para un arreglo \"grande\", vemos que esta operación es muy lenta"
      ]
    },
    {
      "cell_type": "code",
      "metadata": {
        "id": "sWrViNesEn1e",
        "colab_type": "code",
        "colab": {}
      },
      "source": [
        "a = np.arange(1,10000000)\n",
        "\n",
        "%timeit Reciproco(a)"
      ],
      "execution_count": 0,
      "outputs": []
    },
    {
      "cell_type": "markdown",
      "metadata": {
        "id": "O9-l07ebEzQz",
        "colab_type": "text"
      },
      "source": [
        "¡Toma varios segundos calcular estos millones de operaciones y almacenar el resultado! Resulta que el cuello de botella aquí no son las operaciones en sí mismas, sino la verificación de tipos y demás que Python debe hacer en cada ciclo. Cada vez que se calcula el recíproco, Python primero examina el tipo de objeto y realiza una búsqueda dinámica de la función correcta que se utilizará para ese tipo. Si estuviéramos trabajando en código compilado, esta especificación de tipo se conocería antes de que se ejecute el código y el resultado podría calcularse de manera mucho más eficiente."
      ]
    },
    {
      "cell_type": "markdown",
      "metadata": {
        "id": "Y7sM7lLdE3LO",
        "colab_type": "text"
      },
      "source": [
        "## Introduciendo las funciones universales (ufuncs)\n",
        "\n",
        "Para muchos tipos de operaciones, NumPy proporciona una interfaz conveniente de rutina compilada de tipo estático. Esto se conoce como una operación *vectorizada*. En el contexto de lenguajes de alto nivel como Python, el término **vectorización** representa el uso de código optimizado y precompilado escrito en lenguajes de bajo nivel (por ejemplo C) para realizar operaciones matemáticas en una secuencia de datos. Esto se realiza en lugar de una iteración explicita escrita en código nativo.\n",
        "\n",
        "Comparemos el tiempo de cómputo con el resultado anterior, esta vez utilizando una operación vectorizada:"
      ]
    },
    {
      "cell_type": "code",
      "metadata": {
        "id": "WIqTJMOIEoLh",
        "colab_type": "code",
        "colab": {}
      },
      "source": [
        "a = np.arange(1,10000000)\n",
        "\n",
        "%timeit 1/a"
      ],
      "execution_count": 0,
      "outputs": []
    },
    {
      "cell_type": "markdown",
      "metadata": {
        "id": "f-x-th3-FApm",
        "colab_type": "text"
      },
      "source": [
        "Las operaciones vectorizadas en NumPy se implementan a través de las ufuncs, cuyo objetivo principal es ejecutar rápidamente operaciones repetidas sobre los valores en los arreglos de NumPy. En la celda anterior vimos una operación entre un entero y un arreglo, pero también podemos realizar operaciones entre arreglos:"
      ]
    },
    {
      "cell_type": "code",
      "metadata": {
        "id": "rCQNUY8tFI-L",
        "colab_type": "code",
        "colab": {}
      },
      "source": [
        "np.arange(5)/np.arange(1,6)"
      ],
      "execution_count": 0,
      "outputs": []
    },
    {
      "cell_type": "markdown",
      "metadata": {
        "id": "cqHeA7vaFKwE",
        "colab_type": "text"
      },
      "source": [
        "Además, estas operaciones no están restringidas para arreglos unidimensionales. Podemos realizar este tipo de operaciones obre arreglos multidimensionales:"
      ]
    },
    {
      "cell_type": "code",
      "metadata": {
        "id": "r2cB02SxFMhO",
        "colab_type": "code",
        "colab": {}
      },
      "source": [
        "2 * np.arange(9).reshape((3, 3))"
      ],
      "execution_count": 0,
      "outputs": []
    },
    {
      "cell_type": "markdown",
      "metadata": {
        "id": "ZZtpzDClFPXg",
        "colab_type": "text"
      },
      "source": [
        "Los cálculos que usan vectorización a través de ufuncs son casi siempre más eficientes que su contraparte implementada a través de ciclos, especialmente a medida que los arrays crecen en tamaño. Cada vez que se vea un ciclo de este tipo en un script de Python, debe considerarse si este puede reemplazarse con una expresión vectorizada."
      ]
    },
    {
      "cell_type": "markdown",
      "metadata": {
        "id": "8vH44-MJFfQT",
        "colab_type": "text"
      },
      "source": [
        "Todas estas operaciones aritméticas son simplemente \"envolturas\" convenientes alrededor de funciones específicas integradas en NumPy; por ejemplo, el operador `+` es un contenedor para la función `np.add()`:"
      ]
    },
    {
      "cell_type": "code",
      "metadata": {
        "id": "PCAwcEesFnTN",
        "colab_type": "code",
        "colab": {}
      },
      "source": [
        "a = np.array([[1,2],[3,4]])\n",
        "b = np.array([[5,6],[7,8]])\n",
        "\n",
        "# Suma elemento a elemento\n",
        "print(\"a+b: \\n\",np.add(a, b))\n",
        "\n",
        "# Resta elemento a elemento.\n",
        "print(\"a-b: \\n\",np.subtract(a, b))\n",
        "\n",
        "# Multiplicación elemento a elemento.\n",
        "print(\"a*b: \\n\",np.multiply(a, b))\n",
        "\n",
        "# División elemento a elemento.\n",
        "print(\"a/b: \\n\",np.divide(a, b))"
      ],
      "execution_count": 0,
      "outputs": []
    },
    {
      "cell_type": "markdown",
      "metadata": {
        "id": "y9SSHUd_F_3S",
        "colab_type": "text"
      },
      "source": [
        "# Enmascaramiento \n",
        "\n",
        "Veamos el uso de máscaras booleanas para examinar y manipular valores dentro de los arreglos de NumPy. El enmascaramiento aparece cuando deseamos extraer, modificar, o manipular valores en un arreglo de acuerdo con algún criterio.\n",
        "\n",
        "La sesión anterior vimos cómo utilizar ufuncs para operaciones aritméticas básicas y otro tipo de operaciones más complejas. NumPy implementa también operadores de comparasión como ufuncs:"
      ]
    },
    {
      "cell_type": "code",
      "metadata": {
        "id": "f5w4m9rvGYyf",
        "colab_type": "code",
        "outputId": "12f24fbd-e34f-4bd3-e13f-20a18a3675d2",
        "colab": {
          "base_uri": "https://localhost:8080/",
          "height": 68
        }
      },
      "source": [
        "x = np.arange(9).reshape(3,3)\n",
        "x"
      ],
      "execution_count": 0,
      "outputs": [
        {
          "output_type": "execute_result",
          "data": {
            "text/plain": [
              "array([[0, 1, 2],\n",
              "       [3, 4, 5],\n",
              "       [6, 7, 8]])"
            ]
          },
          "metadata": {
            "tags": []
          },
          "execution_count": 51
        }
      ]
    },
    {
      "cell_type": "code",
      "metadata": {
        "id": "4rUaY4T8GaEt",
        "colab_type": "code",
        "outputId": "86004a12-df8f-40c4-c401-7f28c8173b78",
        "colab": {
          "base_uri": "https://localhost:8080/",
          "height": 68
        }
      },
      "source": [
        "x < 5"
      ],
      "execution_count": 0,
      "outputs": [
        {
          "output_type": "execute_result",
          "data": {
            "text/plain": [
              "array([[ True,  True,  True],\n",
              "       [ True,  True, False],\n",
              "       [False, False, False]])"
            ]
          },
          "metadata": {
            "tags": []
          },
          "execution_count": 52
        }
      ]
    },
    {
      "cell_type": "markdown",
      "metadata": {
        "id": "lhh3mNPsHE8f",
        "colab_type": "text"
      },
      "source": [
        "El resultado es un arreglo booleano. Dado un arreglo booleano, hay una serie de operaciones útiles que podemos implementar. \n",
        "\n",
        "Podemos utilizar la función `np.sum()` junto con los operadores de comparación para realizar conteos dentro del arreglo:"
      ]
    },
    {
      "cell_type": "code",
      "metadata": {
        "id": "5NXq9MEGGayG",
        "colab_type": "code",
        "colab": {}
      },
      "source": [
        "# numero de elementos menores a 6\n",
        "np.sum(x < 6)"
      ],
      "execution_count": 0,
      "outputs": []
    },
    {
      "cell_type": "markdown",
      "metadata": {
        "id": "BWzn1ZYxHYx8",
        "colab_type": "text"
      },
      "source": [
        "Con `np.sum()` podemos realizar este tipo de conteos a lo largo de las filas o columnas, utilizando el argumento por palabra clave `axis`:"
      ]
    },
    {
      "cell_type": "code",
      "metadata": {
        "id": "Fm_2yWVdHSgE",
        "colab_type": "code",
        "outputId": "f86c34a9-fa1a-4cba-b4d5-04a67d5f32e6",
        "colab": {
          "base_uri": "https://localhost:8080/",
          "height": 34
        }
      },
      "source": [
        "# numero de elementos menores a 6 por columna\n",
        "np.sum(x < 6, axis=0)"
      ],
      "execution_count": 0,
      "outputs": [
        {
          "output_type": "execute_result",
          "data": {
            "text/plain": [
              "array([2, 2, 2])"
            ]
          },
          "metadata": {
            "tags": []
          },
          "execution_count": 54
        }
      ]
    },
    {
      "cell_type": "code",
      "metadata": {
        "id": "YcwwpOkTHgw6",
        "colab_type": "code",
        "outputId": "fd3cdf41-357a-4b62-b4fc-9df8a8659205",
        "colab": {
          "base_uri": "https://localhost:8080/",
          "height": 34
        }
      },
      "source": [
        "# numero de elementos menores a 6 por fila\n",
        "np.sum(x < 6, axis=1)"
      ],
      "execution_count": 0,
      "outputs": [
        {
          "output_type": "execute_result",
          "data": {
            "text/plain": [
              "array([3, 3, 0])"
            ]
          },
          "metadata": {
            "tags": []
          },
          "execution_count": 55
        }
      ]
    },
    {
      "cell_type": "markdown",
      "metadata": {
        "id": "UzE84oALIEgH",
        "colab_type": "text"
      },
      "source": [
        "Podemos también tener múltiples condiciones en un conteo, utilizando los operadores lógicos `&` (and) y `|` (or)"
      ]
    },
    {
      "cell_type": "code",
      "metadata": {
        "id": "KHwX8aKUHkUu",
        "colab_type": "code",
        "outputId": "d453c449-ba1d-4ed2-c1d4-13fcf921c3d7",
        "colab": {
          "base_uri": "https://localhost:8080/",
          "height": 34
        }
      },
      "source": [
        "# verdadero si ambos verdaderos\n",
        "np.sum((x > 1) & (x < 5))"
      ],
      "execution_count": 0,
      "outputs": [
        {
          "output_type": "execute_result",
          "data": {
            "text/plain": [
              "3"
            ]
          },
          "metadata": {
            "tags": []
          },
          "execution_count": 59
        }
      ]
    },
    {
      "cell_type": "code",
      "metadata": {
        "id": "Nrz-bLHzHuBE",
        "colab_type": "code",
        "colab": {}
      },
      "source": [
        "# verdadero en caso en que alguno de los dos sea verdadero\n",
        "np.sum((x > 6) | (x < 2))"
      ],
      "execution_count": 0,
      "outputs": []
    },
    {
      "cell_type": "markdown",
      "metadata": {
        "id": "HrgsEGO4IPFw",
        "colab_type": "text"
      },
      "source": [
        "Una herramienta muy poderosa es usar los arreglos booleanos como máscaras, para seleccionar subconjuntos particulares de los datos mismos. Volviendo a nuestra arreglo `x` anterior, supongamos que queremos un arreglo de todos los valores en `x` que sean menores que, digamos, 5. Para seleccionar estos valores del arreglo, simplemente podemos indexar con este arreglo booleano; esto se conoce como una operación de enmascaramiento:"
      ]
    },
    {
      "cell_type": "code",
      "metadata": {
        "id": "K2FNuBgzIR5Y",
        "colab_type": "code",
        "outputId": "9c5d2011-30bc-42dd-b46b-0ed92ea23099",
        "colab": {
          "base_uri": "https://localhost:8080/",
          "height": 34
        }
      },
      "source": [
        "x[x < 5]"
      ],
      "execution_count": 0,
      "outputs": [
        {
          "output_type": "execute_result",
          "data": {
            "text/plain": [
              "array([0, 1, 2, 3, 4])"
            ]
          },
          "metadata": {
            "tags": []
          },
          "execution_count": 61
        }
      ]
    },
    {
      "cell_type": "markdown",
      "metadata": {
        "id": "Y6qH99ltIVQD",
        "colab_type": "text"
      },
      "source": [
        "Lo que se devuelve es un arreglo unidimensional con todos los valores que cumplen la condición; en otras palabras, todos los valores en las posiciones en las que el arreglo de máscara es `True`."
      ]
    },
    {
      "cell_type": "markdown",
      "metadata": {
        "id": "wNOxZmWLI9b0",
        "colab_type": "text"
      },
      "source": [
        "## **Ejercicio**: Escriba un programa para crear un nuevo arreglo que sea el promedio de cada triplete consecutivo de elementos del siguiente arreglo\n",
        "\n",
        "<p><img alt=\"Colaboratory logo\" height=\"70px\" src=\"https://i.imgur.com/XoHovZd.png\" align=\"left\" hspace=\"10px\" vspace=\"0px\"></p>"
      ]
    }
  ]
}