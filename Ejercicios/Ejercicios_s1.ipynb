{
  "nbformat": 4,
  "nbformat_minor": 0,
  "metadata": {
    "colab": {
      "name": "Ejercicios",
      "provenance": [],
      "collapsed_sections": []
    },
    "kernelspec": {
      "name": "python3",
      "display_name": "Python 3"
    }
  },
  "cells": [
    {
      "cell_type": "markdown",
      "metadata": {
        "id": "8BaIy_XeYUfT",
        "colab_type": "text"
      },
      "source": [
        "## **Ejercicio #1:** Cree un programa que le pida al usuario que ingrese su nombre, edad y año actual. Imprima un mensaje en pantalla en el que le diga el año en que cumplirá 100 años."
      ]
    },
    {
      "cell_type": "code",
      "metadata": {
        "id": "mDk3UKvr1rSe",
        "colab_type": "code",
        "colab": {}
      },
      "source": [
        "print(\"Ingrese su nombre\")\n",
        "nombre = input()\n",
        "\n",
        "print(\"Ingrese su edad\")\n",
        "edad = int(input())\n",
        "\n",
        "print(\"Ingrese el año actual\")\n",
        "año = int(input())\n",
        "\n",
        "cien = (año-edad)+100\n",
        "\n",
        "print(f\"{nombre} cumplirá 100 años en el año {cien}\")"
      ],
      "execution_count": 0,
      "outputs": []
    },
    {
      "cell_type": "markdown",
      "metadata": {
        "id": "kdlydP7-ZAx2",
        "colab_type": "text"
      },
      "source": [
        "## **Ejercicio #2:**  Pida al usuario un número. Dependiendo de si el número es par o impar, imprima un mensaje apropiado para el usuario en pantalla."
      ]
    },
    {
      "cell_type": "code",
      "metadata": {
        "id": "3XgUOxjWYZc5",
        "colab_type": "code",
        "colab": {}
      },
      "source": [
        "print(\"Ingrese un número entero\")\n",
        "numero = float(input())\n",
        "\n",
        "if numero % 2 == 0:\n",
        "  print(\"El número es par\")\n",
        "else:\n",
        "  print(\"El número es impar\")"
      ],
      "execution_count": 0,
      "outputs": []
    },
    {
      "cell_type": "markdown",
      "metadata": {
        "id": "5b63Y9oeZac9",
        "colab_type": "text"
      },
      "source": [
        "## **Ejercicio #4:** Acepte tres números del usuario. Imprima en pantalla el mayor de los tres con dos cifras significativas"
      ]
    },
    {
      "cell_type": "code",
      "metadata": {
        "id": "RpS_Q4p6ZPw0",
        "colab_type": "code",
        "colab": {}
      },
      "source": [
        "print(\"Ingrese tres números\")\n",
        "a = float(input())\n",
        "b = float(input())\n",
        "c = float(input())\n",
        "\n",
        "if a > b and a > c:\n",
        "  print(f\"El número mayor es {a:.2f}\")\n",
        "\n",
        "elif b > a and b > c:\n",
        "  print(f\"El número mayor es {b:.2f}\")\n",
        "\n",
        "else:\n",
        "  print(f\"El número mayor es {c:.2f}\")"
      ],
      "execution_count": 0,
      "outputs": []
    },
    {
      "cell_type": "markdown",
      "metadata": {
        "id": "QcC3ynzecO4n",
        "colab_type": "text"
      },
      "source": [
        "## **Ejercicio #3:** Solicite al usuario una cadena de caracteres e imprima si esta cadena es un palíndromo o no. (Un palíndromo es una palabra que se lee lo mismo hacia adelante y hacia atrás)."
      ]
    },
    {
      "cell_type": "code",
      "metadata": {
        "id": "c1_ePXxwZveZ",
        "colab_type": "code",
        "colab": {}
      },
      "source": [
        "print(\"Ingrese una cadena\")\n",
        "cadena = input()\n",
        "\n",
        "if cadena == cadena[::-1]:\n",
        "  print(f\"{cadena} es un palindromo\")\n",
        "else:\n",
        "  print(f\"{cadena} no es un palíndromo\")"
      ],
      "execution_count": 0,
      "outputs": []
    },
    {
      "cell_type": "markdown",
      "metadata": {
        "id": "Mb2wO7uCdIFF",
        "colab_type": "text"
      },
      "source": [
        "## **Ejercicio7**:  Dado el siguiente listado de alumnos de una clase\n",
        "\n",
        "> alumnos = ['Ana', 'Luis', 'Pedro', 'Marta', 'Nerea', 'Pablo']\n",
        "\n",
        "## Crear dos listas: una que contenga la primera letra de cada nombre y otra que contenga la última letra"
      ]
    },
    {
      "cell_type": "code",
      "metadata": {
        "id": "lhRqsQqBcfHE",
        "colab_type": "code",
        "outputId": "6d7f2668-9c78-4755-e242-9a956b798e02",
        "colab": {
          "base_uri": "https://localhost:8080/",
          "height": 51
        }
      },
      "source": [
        "alumnos = ['Ana', 'Luis', 'Pedro', 'Marta', 'Nerea', 'Pablo']\n",
        "\n",
        "lista1, lista2 = [],[]\n",
        "for i in alumnos:\n",
        "  lista1.append(i[0])\n",
        "  lista2.append(i[-1])\n",
        "\n",
        "print(lista1)\n",
        "print(lista2)"
      ],
      "execution_count": 0,
      "outputs": [
        {
          "output_type": "stream",
          "text": [
            "['A', 'L', 'P', 'M', 'N', 'P']\n",
            "['a', 's', 'o', 'a', 'a', 'o']\n"
          ],
          "name": "stdout"
        }
      ]
    },
    {
      "cell_type": "markdown",
      "metadata": {
        "id": "PwEGC3vRdi8p",
        "colab_type": "text"
      },
      "source": [
        "## **Ejercicio #6:** Dada una cadena y un entero $n$ por un usuario, imprima en pantalla una nueva cadena que no contenga los caracteres de la cadena original desde el primer caracter hasta el caracter $n$ (Verifique que la longitud de la cadena no sea mayor a $n$, y en caso contrario vuelva a pedir el entero $n$)"
      ]
    },
    {
      "cell_type": "code",
      "metadata": {
        "id": "q88pmbJTdcBK",
        "colab_type": "code",
        "colab": {}
      },
      "source": [
        "print(\"Dame una cadena\")\n",
        "cadena = input()\n",
        "\n",
        "while True:\n",
        "  print(\"Dame un número n\")\n",
        "  n = int(input())\n",
        "\n",
        "  if len(cadena) > n:\n",
        "    print(f\"{cadena[n::]}\")\n",
        "    break\n",
        "  else:\n",
        "    print(\"El valor de n es incorrecto!\")"
      ],
      "execution_count": 0,
      "outputs": []
    },
    {
      "cell_type": "markdown",
      "metadata": {
        "id": "ilC8RUQEetbe",
        "colab_type": "text"
      },
      "source": [
        "## **Ejercicio9:** Dada una lista, itere sobre ella y cuente la aparición de cada elemento y cree un diccionario para mostrar el recuento de cada elemento\n",
        "\n",
        "> Lista = [11, 45, 8, 11, 23, 45, 23, 45, 89]"
      ]
    },
    {
      "cell_type": "code",
      "metadata": {
        "id": "K3WAjcfxeGoD",
        "colab_type": "code",
        "outputId": "a40b1d1d-7fee-478b-de08-51d8fad5cc07",
        "colab": {
          "base_uri": "https://localhost:8080/",
          "height": 34
        }
      },
      "source": [
        "lista = [11, 45, 8, 11, 23, 45, 23, 45, 89]\n",
        "\n",
        "dic = {}\n",
        "\n",
        "for i in lista:\n",
        "  if i in dic.keys():\n",
        "    dic[i] += 1\n",
        "  else:\n",
        "    dic[i] = 1\n",
        "\n",
        "print(dic)"
      ],
      "execution_count": 0,
      "outputs": [
        {
          "output_type": "stream",
          "text": [
            "{11: 2, 45: 3, 8: 1, 23: 2, 89: 1}\n"
          ],
          "name": "stdout"
        }
      ]
    },
    {
      "cell_type": "markdown",
      "metadata": {
        "id": "_ZVKoZd1gaxf",
        "colab_type": "text"
      },
      "source": [
        "## **Ejercicio10:** Dado el diccionario\n",
        "\n",
        "> notas = {'Ana':9, 'Luis':7, 'Pedro':2, 'Marta':5, 'Nerea':4, 'Pablo':6}\n",
        "\n",
        "## * 1) crear una lista que contenga los nombres de los estudiantes que contengan la letra \"a\"\n",
        "\n",
        "## * 2) crear una lista que contenga notas mayores o iguales a 5\n",
        "\n",
        "## * 3)Crear una lista que contenga los nombres de los estudiantes que aprobaron "
      ]
    },
    {
      "cell_type": "code",
      "metadata": {
        "id": "Tfk-xhY1gCoB",
        "colab_type": "code",
        "colab": {}
      },
      "source": [
        "notas = {'Ana':9, 'Luis':7, 'Pedro':2, 'Marta':5, 'Nerea':4, 'Pablo':6}\n",
        "\n",
        "l1, l2, l3 = [], [], []\n",
        "\n",
        "for i,j in notas.items():\n",
        "  if \"a\" in i:\n",
        "    l1.append(i)\n",
        "  if j >= 5:\n",
        "    l2.append(j)\n",
        "    l3.append(i)\n",
        "\n",
        "print(f\"Los nombres con a: {l1}\") \n",
        "print(f\"las notas mayores o iguales a 5: {l2}\") \n",
        "print(f\"Estudiantes que aprobaron: {l3}\") "
      ],
      "execution_count": 0,
      "outputs": []
    }
  ]
}