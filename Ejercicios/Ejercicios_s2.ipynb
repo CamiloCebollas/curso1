{
  "nbformat": 4,
  "nbformat_minor": 0,
  "metadata": {
    "colab": {
      "name": "ejercicios2.ipynb",
      "provenance": [],
      "collapsed_sections": []
    },
    "kernelspec": {
      "name": "python3",
      "display_name": "Python 3"
    }
  },
  "cells": [
    {
      "cell_type": "markdown",
      "metadata": {
        "id": "mZTC42Wk856w",
        "colab_type": "text"
      },
      "source": [
        "## **Ejercicio #1**:  Dado el siguiente listado de alumnos de una clase\n",
        "\n",
        "> alumnos = ['Ana', 'Luis', 'Pedro', 'Marta', 'Nerea', 'Pablo']\n",
        "\n",
        "## Crear dos listas: una que contenga la primera letra de cada nombre y otra que contenga la última letra\n",
        "\n",
        "Para ver la solución haga double-click **aquí**.\n",
        "\n",
        "<!--\n",
        "alumnos = ['Ana', 'Luis', 'Pedro', 'Marta', 'Nerea', 'Pablo']\n",
        "\n",
        "L1 = [alumno[0] for alumno in alumnos]\n",
        "L2 = [alumno[-1] for alumno in alumnos]\n",
        "\n",
        "print(L1)\n",
        "print(L2)\n",
        "-->"
      ]
    },
    {
      "cell_type": "markdown",
      "metadata": {
        "id": "GkwezugaAehs",
        "colab_type": "text"
      },
      "source": [
        "## **Ejercicio #2**: Escriba un programa que calcule el promedio de n números enteros.\n",
        "\n",
        "Para ver la solución haga double-click **aquí**.\n",
        "\n",
        "<!-- La respuesta se encuentra a continuación:\n",
        "import numpy as np\n",
        "\n",
        "n = int(input(\"¿Cuál es el número de enteros?\\n\"))\n",
        "\n",
        "print(f\"Ingrese los {n} números\")\n",
        "prom = np.mean([int(input()) for i in range(n)])\n",
        "\n",
        "print(f\"El promedio es {prom}\")\n",
        "-->"
      ]
    },
    {
      "cell_type": "markdown",
      "metadata": {
        "id": "dRI0SL7q_J5h",
        "colab_type": "text"
      },
      "source": [
        "## **Ejercicio #3:** Dado el diccionario\n",
        "\n",
        "> notas = {'Ana':9, 'Luis':7, 'Pedro':2, 'Marta':5, 'Nerea':4, 'Pablo':6}\n",
        "\n",
        "##  1) crear una lista que contenga los nombres de los estudiantes que contengan la letra \"a\"\n",
        "\n",
        "##  2) crear una lista que contenga notas mayores o iguales a 5\n",
        "\n",
        "##  3)Crear una lista que contenga los nombres de los estudiantes que aprobaron \n",
        "\n",
        "Para ver la solución haga double-click **aquí**.\n",
        "\n",
        "<!--\n",
        "notas = {'Ana':9, 'Luis':7, 'Pedro':2, 'Marta':5, 'Nerea':4, 'Pablo':6}\n",
        "\n",
        "L1 = [nombre for nombre in notas.keys() if \"a\" in nombre]\n",
        "L2 = [nota for nota in notas.values() if nota >= 3]\n",
        "L3 = [nombre for nombre,nota in notas.items() if nota >= 3]\n",
        "\n",
        "print(L1)\n",
        "print(L2)\n",
        "print(L3)\n",
        "-->"
      ]
    },
    {
      "cell_type": "markdown",
      "metadata": {
        "id": "SX59ZXkx8UMV",
        "colab_type": "text"
      },
      "source": [
        "## **Ejercicio #4:** Acepte tres números del usuario. Imprima en pantalla el mayor de los tres.\n",
        "\n",
        "Para ver la solución haga double-click **aquí**.\n",
        "<!--\n",
        "def Maximo(a,b,c):\n",
        "  print(\"El número mayor es:\")\n",
        "  if a > b and a > c:\n",
        "    return a\n",
        "  elif b > a and b > c:\n",
        "    return b\n",
        "  else:\n",
        "    return c\n",
        "\n",
        "print(\"Dame los tres números\")\n",
        "L = [float(input()) for i in range(3)]\n",
        "\n",
        "Maximo(*L)\n",
        "-->"
      ]
    },
    {
      "cell_type": "markdown",
      "metadata": {
        "id": "HJ20cOTlgNfx",
        "colab_type": "text"
      },
      "source": [
        "## **Ejercicio #5:** Escriba un programa que cuente el número de vocales en un arreglo.\n",
        "\n",
        "Para ver la solución haga double-click **aquí**\n",
        "\n",
        "<!--\n",
        "L = [\"escriba\", \"un\", \"programa\"]\n",
        "voc = \"aeiou\"\n",
        "\n",
        "num = len([letra for palabra in L for letra in palabra if letra in voc])\n",
        "print(f\"El número de vocales es: {num}\")\n",
        "-->"
      ]
    },
    {
      "cell_type": "markdown",
      "metadata": {
        "id": "p9-L6z4xIHxn",
        "colab_type": "text"
      },
      "source": [
        "## **Ejercicio #6:** Escriba un algoritmo que tome como entrada un número binario y que, como salida, muestre cuántos unos y ceros tiene el número binario.\n",
        "\n",
        "Para ver la solución haga double-click **aquí**\n",
        "\n",
        "<!--\n",
        "import numpy as np\n",
        "\n",
        "print(\"Ingrese el número binario\")\n",
        "binario = np.array([int(input()) for i in range(8)])\n",
        "\n",
        "unos = np.sum(binario>0)\n",
        "\n",
        "print(f\"El número de unos es: {unos}\")\n",
        "print(f\"El número de ceros es: {8-unos}\")\n",
        "-->"
      ]
    },
    {
      "cell_type": "markdown",
      "metadata": {
        "id": "qzobEwuVGaY-",
        "colab_type": "text"
      },
      "source": [
        "## **Ejercicio #7**: Escribir un programa que lea n números, calcule y muestre la suma de los pares y el producto de los impares.\n",
        "\n",
        "Para ver la solución haga double-click **aquí**.\n",
        "\n",
        "<!--\n",
        "import numpy as np\n",
        "\n",
        "n = int(input(\"¿Cuántos números va a ingresar?\\n\"))\n",
        "\n",
        "print(\"Ingrese los números\")\n",
        "N = np.array([int(input()) for i in range(n)]) \n",
        "\n",
        "suma = np.sum(N[N%2 == 0])\n",
        "prod = np.prod(N[N%2 != 0])\n",
        "\n",
        "print(f\"La suma de los pares es: {suma}\")\n",
        "print(f\"El producto de los impares es: {prod}\")\n",
        "-->\n"
      ]
    }
  ]
}